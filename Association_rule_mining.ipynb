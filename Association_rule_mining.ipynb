{
 "cells": [
  {
   "cell_type": "code",
   "execution_count": 619,
   "metadata": {},
   "outputs": [],
   "source": [
    "import numpy as np\n",
    "import pandas as pd\n",
    "import math\n",
    "from datetime import datetime, timedelta\n",
    "import numpy as np\n",
    "from sklearn.neighbors import NearestNeighbors\n",
    "from matplotlib import pyplot as plt\n",
    "import seaborn as sns\n",
    "sns.set()\n",
    "import pickle\n",
    "from sklearn.cluster import DBSCAN, KMeans\n",
    "from sklearn.preprocessing import StandardScaler\n",
    "import operator"
   ]
  },
  {
   "cell_type": "code",
   "execution_count": 620,
   "metadata": {},
   "outputs": [
    {
     "name": "stderr",
     "output_type": "stream",
     "text": [
      "C:\\Users\\nisha\\Anaconda3\\lib\\site-packages\\IPython\\core\\interactiveshell.py:2785: DtypeWarning: Columns (13,43) have mixed types. Specify dtype option on import or set low_memory=False.\n",
      "  interactivity=interactivity, compiler=compiler, result=result)\n"
     ]
    }
   ],
   "source": [
    "insulin_data = pd.DataFrame(pd.read_csv('insulinData.csv'))"
   ]
  },
  {
   "cell_type": "code",
   "execution_count": 621,
   "metadata": {},
   "outputs": [
    {
     "name": "stderr",
     "output_type": "stream",
     "text": [
      "C:\\Users\\nisha\\Anaconda3\\lib\\site-packages\\IPython\\core\\interactiveshell.py:2785: DtypeWarning: Columns (32) have mixed types. Specify dtype option on import or set low_memory=False.\n",
      "  interactivity=interactivity, compiler=compiler, result=result)\n"
     ]
    }
   ],
   "source": [
    "cgm_data = pd.DataFrame(pd.read_csv('CGMData.csv'))"
   ]
  },
  {
   "cell_type": "code",
   "execution_count": 622,
   "metadata": {},
   "outputs": [],
   "source": [
    "match_time = []\n",
    "match_date = []\n",
    "intake = []\n",
    "bolus = []\n",
    "for i in range(len(insulin_data)):\n",
    "    if((not(math.isnan(insulin_data.loc[i, 'BWZ Carb Input (grams)']))) and (insulin_data.loc[i, 'BWZ Carb Input (grams)'] != 0)):\n",
    "        match_date.append(insulin_data.loc[i, 'Date'])\n",
    "        match_time.append(insulin_data.loc[i, 'Time'])\n",
    "        intake.append(insulin_data.loc[i, 'BWZ Carb Input (grams)'])\n",
    "        bolus.append(round(insulin_data.loc[i, 'BWZ Estimate (U)']))"
   ]
  },
  {
   "cell_type": "code",
   "execution_count": 623,
   "metadata": {},
   "outputs": [],
   "source": [
    "dtl = []\n",
    "for i in range(len(match_date)):\n",
    "    dtl.append(str(match_date[i]) + ' ' + str(match_time[i]))"
   ]
  },
  {
   "cell_type": "code",
   "execution_count": 624,
   "metadata": {},
   "outputs": [],
   "source": [
    "dtl_in = []\n",
    "for i in range(len(intake)):\n",
    "    dtl_in.append(intake[i])"
   ]
  },
  {
   "cell_type": "code",
   "execution_count": 625,
   "metadata": {},
   "outputs": [],
   "source": [
    "dtl_bolus = []\n",
    "for i in range(len(bolus)):\n",
    "    dtl_bolus.append(bolus[i])"
   ]
  },
  {
   "cell_type": "code",
   "execution_count": 626,
   "metadata": {},
   "outputs": [],
   "source": [
    "insulin_data = insulin_data.iloc[::-1]"
   ]
  },
  {
   "cell_type": "code",
   "execution_count": 627,
   "metadata": {},
   "outputs": [],
   "source": [
    "cgm_data = cgm_data[::-1]"
   ]
  },
  {
   "cell_type": "code",
   "execution_count": 628,
   "metadata": {},
   "outputs": [],
   "source": [
    "for i in range(len(dtl)):\n",
    "    dtl[i] = datetime.strptime(str(match_date[i]) + ' ' + str(match_time[i]), '%m/%d/%Y %H:%M:%S')\n"
   ]
  },
  {
   "cell_type": "code",
   "execution_count": 629,
   "metadata": {},
   "outputs": [],
   "source": [
    "dtl = dtl[::-1]"
   ]
  },
  {
   "cell_type": "code",
   "execution_count": 630,
   "metadata": {},
   "outputs": [],
   "source": [
    "dtl_in = dtl_in[::-1]"
   ]
  },
  {
   "cell_type": "code",
   "execution_count": 631,
   "metadata": {},
   "outputs": [],
   "source": [
    "dtl_bolus = dtl_bolus[::-1]"
   ]
  },
  {
   "cell_type": "code",
   "execution_count": 632,
   "metadata": {},
   "outputs": [],
   "source": [
    "meal_data_dt = []\n",
    "meal_data_dt_in = []\n",
    "meal_data_dt_bolus = []\n",
    "for i in range(len(dtl)-1):\n",
    "    if((dtl[i] + timedelta(hours = 2)) < dtl[i+1]):\n",
    "        meal_data_dt.append(dtl[i])\n",
    "        meal_data_dt_in.append(dtl_in[i])\n",
    "        meal_data_dt_bolus.append(dtl_bolus[i])\n",
    "    if((dtl[i] + timedelta(hours = 2)) == dtl[i+1]):\n",
    "        meal_data_dt.append(dtl[i+1] + timedelta(hours = -0.5))\n",
    "        meal_data_dt_in.append(dtl_in[i+1])\n",
    "        meal_data_dt_bolus.append(dtl_bolus[i+1])"
   ]
  },
  {
   "cell_type": "code",
   "execution_count": 633,
   "metadata": {},
   "outputs": [],
   "source": [
    "cgm_data_dt = []\n",
    "for i in range(len(cgm_data)):\n",
    "    cgm_data_dt.append(datetime.strptime(str(cgm_data.loc[i, 'Date']) + ' ' + str(cgm_data.loc[i, 'Time']), '%m/%d/%Y %H:%M:%S'))"
   ]
  },
  {
   "cell_type": "markdown",
   "metadata": {},
   "source": [
    "# meal data datetime of cgm\n"
   ]
  },
  {
   "cell_type": "code",
   "execution_count": 634,
   "metadata": {},
   "outputs": [],
   "source": [
    "cgm_tm_match_meal = []\n",
    "cgm_tm_match_meal_in = []\n",
    "cgm_tm_match_meal_bolus = []\n",
    "for i in range(len(meal_data_dt)):\n",
    "    for j in range(len(cgm_data_dt)):\n",
    "        if(cgm_data_dt[j] < meal_data_dt[i] + timedelta(minutes = 5)):\n",
    "            cgm_tm_match_meal.append((cgm_data_dt[j]))\n",
    "            cgm_tm_match_meal_in.append(meal_data_dt_in[i])\n",
    "            cgm_tm_match_meal_bolus.append(meal_data_dt_bolus[i])\n",
    "            break"
   ]
  },
  {
   "cell_type": "code",
   "execution_count": 635,
   "metadata": {},
   "outputs": [],
   "source": [
    "cgm_data['timestamp'] = cgm_data_dt[::-1]"
   ]
  },
  {
   "cell_type": "markdown",
   "metadata": {},
   "source": [
    "# Meal data cgm values"
   ]
  },
  {
   "cell_type": "code",
   "execution_count": 636,
   "metadata": {},
   "outputs": [],
   "source": [
    "temp_index_list = []\n",
    "temp_index_list_in = []\n",
    "temp_index_list_bolus = []\n",
    "for i in range(len(cgm_tm_match_meal)):\n",
    "    temp_index_list.append(cgm_data[cgm_data['timestamp'] == cgm_tm_match_meal[i]].index[0])\n",
    "    temp_index_list_in.append(cgm_tm_match_meal_in[i])\n",
    "    temp_index_list_bolus.append(cgm_tm_match_meal_bolus[i])"
   ]
  },
  {
   "cell_type": "code",
   "execution_count": 637,
   "metadata": {},
   "outputs": [],
   "source": [
    "cgm_value_stretch_meal = []\n",
    "cgm_value_stretch_meal_in = []\n",
    "cgm_value_stretch_meal_bolus = []\n",
    "for i in range(1,len(temp_index_list)):\n",
    "    cgm_value_one_stretch_meal = []\n",
    "    for j in range(30):\n",
    "        cgm_value_one_stretch_meal.append(cgm_data.loc[(temp_index_list[i] + 6 - j),'Sensor Glucose (mg/dL)'])\n",
    "    if(not(np.isnan(cgm_value_one_stretch_meal).all())):\n",
    "        cgm_value_stretch_meal.append(cgm_value_one_stretch_meal)\n",
    "        cgm_value_stretch_meal_in.append(temp_index_list_in[i])\n",
    "        cgm_value_stretch_meal_bolus.append(temp_index_list_bolus[i])"
   ]
  },
  {
   "cell_type": "code",
   "execution_count": 638,
   "metadata": {
    "scrolled": true
   },
   "outputs": [],
   "source": [
    "for i in range(len(cgm_value_stretch_meal)):\n",
    "    for j in range(len(cgm_value_stretch_meal[i])):\n",
    "        if(np.isnan(cgm_value_stretch_meal[i][j])):\n",
    "            cgm_value_stretch_meal[i][j] = int(np.nanmean(cgm_value_stretch_meal[i]))"
   ]
  },
  {
   "cell_type": "code",
   "execution_count": 639,
   "metadata": {},
   "outputs": [],
   "source": [
    "cgm_value_stretch_meal_df = pd.DataFrame(cgm_value_stretch_meal)"
   ]
  },
  {
   "cell_type": "code",
   "execution_count": 640,
   "metadata": {},
   "outputs": [],
   "source": [
    "cgm_value_stretch_meal_df['intake'] = cgm_value_stretch_meal_in"
   ]
  },
  {
   "cell_type": "code",
   "execution_count": 641,
   "metadata": {},
   "outputs": [],
   "source": [
    "cgm_value_stretch_meal_df['bolus'] = (cgm_value_stretch_meal_bolus)"
   ]
  },
  {
   "cell_type": "code",
   "execution_count": 642,
   "metadata": {},
   "outputs": [],
   "source": [
    "cgm_max = max(cgm_value_stretch_meal_df.max())"
   ]
  },
  {
   "cell_type": "code",
   "execution_count": 643,
   "metadata": {},
   "outputs": [],
   "source": [
    "cgm_min = min(cgm_value_stretch_meal_df.min())"
   ]
  },
  {
   "cell_type": "code",
   "execution_count": 644,
   "metadata": {},
   "outputs": [],
   "source": [
    "bins = (cgm_max - cgm_min )/ 20"
   ]
  },
  {
   "cell_type": "code",
   "execution_count": 645,
   "metadata": {},
   "outputs": [],
   "source": [
    "b_meal_class_list = []\n",
    "for i in range(len(cgm_value_stretch_meal_df)):\n",
    "    b_meal_class_list.append(np.ceil((cgm_value_stretch_meal_df[6])[i]/20))\n",
    "        \n",
    "            "
   ]
  },
  {
   "cell_type": "code",
   "execution_count": 646,
   "metadata": {},
   "outputs": [],
   "source": [
    "b_max_class_list = []\n",
    "for i in range(len(cgm_value_stretch_meal_df)):\n",
    "    b_max_class_list.append(np.ceil((max(cgm_value_stretch_meal_df.loc[i][:-2]/20))))\n",
    "        "
   ]
  },
  {
   "cell_type": "code",
   "execution_count": 647,
   "metadata": {},
   "outputs": [],
   "source": [
    "cgm_value_stretch_meal_df['b_max'] = b_max_class_list"
   ]
  },
  {
   "cell_type": "code",
   "execution_count": 648,
   "metadata": {},
   "outputs": [],
   "source": [
    "cgm_value_stretch_meal_df['b_meal'] = b_meal_class_list"
   ]
  },
  {
   "cell_type": "code",
   "execution_count": 649,
   "metadata": {},
   "outputs": [],
   "source": [
    "items = pd.DataFrame(cgm_value_stretch_meal_df[['bolus', 'b_max', 'b_meal']])"
   ]
  },
  {
   "cell_type": "markdown",
   "metadata": {},
   "source": [
    "# Bolus"
   ]
  },
  {
   "cell_type": "code",
   "execution_count": 650,
   "metadata": {},
   "outputs": [],
   "source": [
    "bolus_freq = items['bolus'].value_counts().to_dict()"
   ]
  },
  {
   "cell_type": "code",
   "execution_count": 651,
   "metadata": {},
   "outputs": [],
   "source": [
    "b_max_freq = items['b_max'].value_counts().to_dict()"
   ]
  },
  {
   "cell_type": "code",
   "execution_count": 652,
   "metadata": {},
   "outputs": [],
   "source": [
    "b_meal_freq = items['b_meal'].value_counts().to_dict()"
   ]
  },
  {
   "cell_type": "code",
   "execution_count": 653,
   "metadata": {},
   "outputs": [],
   "source": [
    "bolus_bmax_bmeal = (items.groupby(['bolus', 'b_max', 'b_meal']).size()).to_dict()"
   ]
  },
  {
   "cell_type": "code",
   "execution_count": 654,
   "metadata": {},
   "outputs": [],
   "source": [
    "bolus_bmax = (items.groupby(['bolus', 'b_max']).size()).to_dict()"
   ]
  },
  {
   "cell_type": "code",
   "execution_count": 655,
   "metadata": {},
   "outputs": [],
   "source": [
    "bolus_bmeal = (items.groupby(['bolus', 'b_meal']).size()).to_dict()"
   ]
  },
  {
   "cell_type": "code",
   "execution_count": 656,
   "metadata": {},
   "outputs": [],
   "source": [
    "bmax_bmeal = (items.groupby(['b_max', 'b_meal']).size()).to_dict()"
   ]
  },
  {
   "cell_type": "code",
   "execution_count": 657,
   "metadata": {},
   "outputs": [],
   "source": [
    "bolus = (items.groupby(['bolus']).size()).to_dict()"
   ]
  },
  {
   "cell_type": "code",
   "execution_count": 658,
   "metadata": {},
   "outputs": [],
   "source": [
    "bmax = (items.groupby(['b_max']).size()).to_dict()"
   ]
  },
  {
   "cell_type": "code",
   "execution_count": 659,
   "metadata": {},
   "outputs": [],
   "source": [
    "bmeal = (items.groupby(['b_meal']).size()).to_dict()"
   ]
  },
  {
   "cell_type": "code",
   "execution_count": 660,
   "metadata": {},
   "outputs": [],
   "source": [
    "mfreq_bolus_bmax_bmeal = max(bolus_bmax_bmeal.items(), key=operator.itemgetter(1))[0]"
   ]
  },
  {
   "cell_type": "code",
   "execution_count": 661,
   "metadata": {},
   "outputs": [],
   "source": [
    "mfreq_bolus_bmax = max(bolus_bmax.items(), key=operator.itemgetter(1))[0]"
   ]
  },
  {
   "cell_type": "code",
   "execution_count": 662,
   "metadata": {},
   "outputs": [],
   "source": [
    "mfreq_bolus_bmeal = max(bolus_bmeal.items(), key=operator.itemgetter(1))[0]"
   ]
  },
  {
   "cell_type": "code",
   "execution_count": 663,
   "metadata": {},
   "outputs": [],
   "source": [
    "mfreq_bmax_bmeal = max(bmax_bmeal.items(), key=operator.itemgetter(1))[0]"
   ]
  },
  {
   "cell_type": "code",
   "execution_count": 664,
   "metadata": {},
   "outputs": [],
   "source": [
    "mfreq_bolus = max(bolus.items(), key=operator.itemgetter(1))[0]"
   ]
  },
  {
   "cell_type": "code",
   "execution_count": 665,
   "metadata": {},
   "outputs": [],
   "source": [
    "mfreq_bmax = max(bmax.items(), key=operator.itemgetter(1))[0]"
   ]
  },
  {
   "cell_type": "code",
   "execution_count": 666,
   "metadata": {},
   "outputs": [],
   "source": [
    "mfreq_bmeal = max(bmeal.items(), key=operator.itemgetter(1))[0]"
   ]
  },
  {
   "cell_type": "code",
   "execution_count": 667,
   "metadata": {},
   "outputs": [],
   "source": [
    "line1 = str(mfreq_bolus)"
   ]
  },
  {
   "cell_type": "code",
   "execution_count": 668,
   "metadata": {},
   "outputs": [],
   "source": [
    "line2 = str(mfreq_bmax)"
   ]
  },
  {
   "cell_type": "code",
   "execution_count": 669,
   "metadata": {},
   "outputs": [],
   "source": [
    "line3 = str(mfreq_bmeal)"
   ]
  },
  {
   "cell_type": "code",
   "execution_count": 670,
   "metadata": {},
   "outputs": [],
   "source": [
    "csv1_list = []\n",
    "csv1_list.append(mfreq_bolus_bmax_bmeal)\n",
    "csv1_list.append(mfreq_bolus_bmax)\n",
    "csv1_list.append(mfreq_bolus_bmeal)\n",
    "csv1_list.append(mfreq_bmax_bmeal)\n",
    "csv1_list.append(line1)\n",
    "csv1_list.append(line2)\n",
    "csv1_list.append(line3)"
   ]
  },
  {
   "cell_type": "code",
   "execution_count": 671,
   "metadata": {},
   "outputs": [],
   "source": [
    "csv1_list[4] = str(csv1_list[4])"
   ]
  },
  {
   "cell_type": "code",
   "execution_count": 672,
   "metadata": {},
   "outputs": [],
   "source": [
    "csv1_list[5] = str(csv1_list[5])"
   ]
  },
  {
   "cell_type": "code",
   "execution_count": 673,
   "metadata": {},
   "outputs": [],
   "source": [
    "csv1_list[6] = str(csv1_list[6])"
   ]
  },
  {
   "cell_type": "code",
   "execution_count": 674,
   "metadata": {},
   "outputs": [],
   "source": [
    "dict1 = {'list1': csv1_list}"
   ]
  },
  {
   "cell_type": "code",
   "execution_count": 675,
   "metadata": {},
   "outputs": [],
   "source": [
    "df1 = pd.DataFrame(dict1)"
   ]
  },
  {
   "cell_type": "code",
   "execution_count": 676,
   "metadata": {},
   "outputs": [],
   "source": [
    "df1.to_csv(r'MURALI_results1_frequent_itemsets.csv', index = False, columns=None)"
   ]
  },
  {
   "cell_type": "code",
   "execution_count": 677,
   "metadata": {},
   "outputs": [],
   "source": [
    "final_df1 = pd.read_csv(\"MURALI_results1_frequent_itemsets.csv\", encoding=\"utf-8\", skiprows=1)\n",
    "final_df1.to_csv(r'.\\MURALI_results1_frequent_itemsets.csv', index=False)"
   ]
  },
  {
   "cell_type": "markdown",
   "metadata": {},
   "source": [
    "# confidence"
   ]
  },
  {
   "cell_type": "code",
   "execution_count": 678,
   "metadata": {},
   "outputs": [],
   "source": [
    "final_conf_list = []\n",
    "temp_list = []\n",
    "for vali in bmax_bmeal:\n",
    "    #temp_list = []\n",
    "    for valj in bolus_bmax_bmeal:\n",
    "        if((vali[0] == valj[1]) and (vali[1] == valj[2])):\n",
    "            temp_list.append((valj[0], valj[1], valj[2], bolus_bmax_bmeal[valj[0], valj[1], valj[2]]))\n",
    "    max_temp = max([temp_list_item[3]/bmax_bmeal[vali[0], vali[1]] for temp_list_item in temp_list])\n",
    "    for i in (temp_list):\n",
    "        if((i[3]/bmax_bmeal[vali[0], vali[1]] == max_temp)):\n",
    "            final_conf_list.append(i)"
   ]
  },
  {
   "cell_type": "code",
   "execution_count": 679,
   "metadata": {},
   "outputs": [],
   "source": [
    "full_conf_list = []\n",
    "temp_list = []\n",
    "for vali in bmax_bmeal:\n",
    "    #temp_list = []\n",
    "    for valj in bolus_bmax_bmeal:\n",
    "        if((vali[0] == valj[1]) and (vali[1] == valj[2])):\n",
    "            temp_list.append((valj[0], valj[1], valj[2], bolus_bmax_bmeal[valj[0], valj[1], valj[2]]))\n",
    "    #max_temp = max([temp_list_item[3]/bmax_bmeal[vali[0], vali[1]] for temp_list_item in temp_list])\n",
    "    for i in (temp_list):\n",
    "        #if((i[3]/bmax_bmeal[vali[0], vali[1]] == max_temp)):\n",
    "        full_conf_list.append((i, (i[3]/bmax_bmeal[vali[0], vali[1]])))"
   ]
  },
  {
   "cell_type": "code",
   "execution_count": 680,
   "metadata": {},
   "outputs": [],
   "source": [
    "temp1 = []\n",
    "for i in range(len(full_conf_list)):\n",
    "    if(full_conf_list[i][1] < 0.15):\n",
    "        (temp1.append((full_conf_list[i][0])))\n",
    "full_conf_list_set = list(set(temp1))\n",
    "        "
   ]
  },
  {
   "cell_type": "code",
   "execution_count": 681,
   "metadata": {},
   "outputs": [],
   "source": [
    "large_conf_list = list(set(final_conf_list))"
   ]
  },
  {
   "cell_type": "code",
   "execution_count": 682,
   "metadata": {},
   "outputs": [],
   "source": [
    "list2 = []\n",
    "for i in large_conf_list:\n",
    "    list2.append(\"{\" + str(i[1]) + \",\" + str(i[2]) + \"} -> \" + str(i[0]))"
   ]
  },
  {
   "cell_type": "code",
   "execution_count": 683,
   "metadata": {},
   "outputs": [],
   "source": [
    "df2 = pd.DataFrame(list2)"
   ]
  },
  {
   "cell_type": "code",
   "execution_count": 684,
   "metadata": {},
   "outputs": [],
   "source": [
    "df2.to_csv(r'MURALI_results2_large_confidence.csv', index = False, columns=None)"
   ]
  },
  {
   "cell_type": "code",
   "execution_count": 685,
   "metadata": {},
   "outputs": [],
   "source": [
    "final_df = pd.read_csv(\"MURALI_results2_large_confidence.csv\", encoding=\"utf-8\", skiprows=1)\n",
    "final_df.to_csv(r'.\\MURALI_results2_large_confidence.csv', index=False)"
   ]
  },
  {
   "cell_type": "code",
   "execution_count": 686,
   "metadata": {},
   "outputs": [],
   "source": [
    "list3 = []\n",
    "for i in full_conf_list_set:\n",
    "    list3.append(\"{\" + str(i[1]) + \",\" + str(i[2]) + \"} -> \" + str(i[0]))"
   ]
  },
  {
   "cell_type": "code",
   "execution_count": 687,
   "metadata": {},
   "outputs": [],
   "source": [
    "df3 = pd.DataFrame(list3)"
   ]
  },
  {
   "cell_type": "code",
   "execution_count": 688,
   "metadata": {},
   "outputs": [],
   "source": [
    "df3.to_csv(r'MURALI_results3_low_confidence.csv', index = False, columns=None)"
   ]
  },
  {
   "cell_type": "code",
   "execution_count": 689,
   "metadata": {},
   "outputs": [],
   "source": [
    "final_df3 = pd.read_csv(\"MURALI_results3_low_confidence.csv\", encoding=\"utf-8\", skiprows=1)\n",
    "final_df3.to_csv(r'.\\MURALI_results3_low_confidence.csv', index=False)"
   ]
  }
 ],
 "metadata": {
  "kernelspec": {
   "display_name": "Python 3",
   "language": "python",
   "name": "python3"
  },
  "language_info": {
   "codemirror_mode": {
    "name": "ipython",
    "version": 3
   },
   "file_extension": ".py",
   "mimetype": "text/x-python",
   "name": "python",
   "nbconvert_exporter": "python",
   "pygments_lexer": "ipython3",
   "version": "3.6.5"
  }
 },
 "nbformat": 4,
 "nbformat_minor": 2
}
