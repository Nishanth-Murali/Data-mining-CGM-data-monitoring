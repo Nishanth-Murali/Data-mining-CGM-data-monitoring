{
 "cells": [
  {
   "cell_type": "code",
   "execution_count": 287,
   "metadata": {},
   "outputs": [],
   "source": [
    "import numpy as np\n",
    "import pandas as pd\n",
    "import math\n",
    "from datetime import datetime, timedelta\n",
    "from sklearn.metrics import accuracy_score\n",
    "from sklearn.cross_validation import train_test_split\n",
    "from sklearn.linear_model import LogisticRegression\n",
    "from sklearn.model_selection import KFold\n",
    "from sklearn.model_selection import cross_val_score\n",
    "from sklearn.metrics import confusion_matrix, precision_score\n",
    "import pickle"
   ]
  },
  {
   "cell_type": "code",
   "execution_count": 288,
   "metadata": {},
   "outputs": [
    {
     "name": "stderr",
     "output_type": "stream",
     "text": [
      "C:\\Users\\nisha\\Anaconda3\\lib\\site-packages\\IPython\\core\\interactiveshell.py:2785: DtypeWarning: Columns (13,43) have mixed types. Specify dtype option on import or set low_memory=False.\n",
      "  interactivity=interactivity, compiler=compiler, result=result)\n"
     ]
    }
   ],
   "source": [
    "insulin_data = pd.DataFrame(pd.read_csv('insulinData.csv'))"
   ]
  },
  {
   "cell_type": "code",
   "execution_count": 289,
   "metadata": {},
   "outputs": [
    {
     "name": "stderr",
     "output_type": "stream",
     "text": [
      "C:\\Users\\nisha\\Anaconda3\\lib\\site-packages\\IPython\\core\\interactiveshell.py:2785: DtypeWarning: Columns (8,9) have mixed types. Specify dtype option on import or set low_memory=False.\n",
      "  interactivity=interactivity, compiler=compiler, result=result)\n"
     ]
    }
   ],
   "source": [
    "insulin_data_p2 = pd.DataFrame(pd.read_csv('InsulinAndMealIntake670GPatient3.csv'))"
   ]
  },
  {
   "cell_type": "code",
   "execution_count": 290,
   "metadata": {},
   "outputs": [
    {
     "name": "stderr",
     "output_type": "stream",
     "text": [
      "C:\\Users\\nisha\\Anaconda3\\lib\\site-packages\\IPython\\core\\interactiveshell.py:2785: DtypeWarning: Columns (32) have mixed types. Specify dtype option on import or set low_memory=False.\n",
      "  interactivity=interactivity, compiler=compiler, result=result)\n"
     ]
    }
   ],
   "source": [
    "cgm_data = pd.DataFrame(pd.read_csv('CGMData.csv'))"
   ]
  },
  {
   "cell_type": "code",
   "execution_count": 291,
   "metadata": {
    "scrolled": true
   },
   "outputs": [],
   "source": [
    "cgm_data_p2 = pd.DataFrame(pd.read_csv('CGMData670GPatient3.csv'))"
   ]
  },
  {
   "cell_type": "code",
   "execution_count": 292,
   "metadata": {},
   "outputs": [],
   "source": [
    "match_time = []\n",
    "match_date = []\n",
    "for i in range(len(insulin_data)):\n",
    "    if(not(math.isnan(insulin_data.loc[i, 'BWZ Carb Input (grams)']))):\n",
    "        match_date.append(insulin_data.loc[i, 'Date'])\n",
    "        match_time.append(insulin_data.loc[i, 'Time'])"
   ]
  },
  {
   "cell_type": "code",
   "execution_count": 293,
   "metadata": {},
   "outputs": [],
   "source": [
    "match_time_p2 = []\n",
    "match_date_p2 = []\n",
    "for i in range(len(insulin_data_p2)):\n",
    "    if(not(math.isnan(insulin_data_p2.loc[i, 'BWZ Carb Input (grams)']))):\n",
    "        match_date_p2.append(insulin_data_p2.loc[i, 'Date'])\n",
    "        match_time_p2.append(insulin_data_p2.loc[i, 'Time'])"
   ]
  },
  {
   "cell_type": "code",
   "execution_count": 294,
   "metadata": {},
   "outputs": [],
   "source": [
    "dtl = []\n",
    "for i in range(len(match_date)):\n",
    "    dtl.append(str(match_date[i]) + ' ' + str(match_time[i]))"
   ]
  },
  {
   "cell_type": "code",
   "execution_count": 295,
   "metadata": {},
   "outputs": [],
   "source": [
    "dtl_p2 = []\n",
    "for i in range(len(match_date_p2)):\n",
    "    dtl_p2.append(str(match_date_p2[i]) + ' ' + str(match_time_p2[i]))"
   ]
  },
  {
   "cell_type": "code",
   "execution_count": 296,
   "metadata": {},
   "outputs": [],
   "source": [
    "insulin_data = insulin_data.iloc[::-1]"
   ]
  },
  {
   "cell_type": "code",
   "execution_count": 297,
   "metadata": {},
   "outputs": [],
   "source": [
    "insulin_data_p2 = insulin_data_p2.iloc[::-1]"
   ]
  },
  {
   "cell_type": "code",
   "execution_count": 298,
   "metadata": {},
   "outputs": [],
   "source": [
    "cgm_data = cgm_data[::-1]"
   ]
  },
  {
   "cell_type": "code",
   "execution_count": 299,
   "metadata": {},
   "outputs": [],
   "source": [
    "cgm_data_p2 = cgm_data_p2.iloc[::-1]"
   ]
  },
  {
   "cell_type": "code",
   "execution_count": 300,
   "metadata": {},
   "outputs": [],
   "source": [
    "for i in range(len(dtl)):\n",
    "    dtl[i] = datetime.strptime(str(match_date[i]) + ' ' + str(match_time[i]), '%m/%d/%Y %H:%M:%S')\n"
   ]
  },
  {
   "cell_type": "code",
   "execution_count": 301,
   "metadata": {},
   "outputs": [],
   "source": [
    "for i in range(len(dtl_p2)):\n",
    "    dtl_p2[i] = datetime.strptime(str(match_date_p2[i]) + ' ' + str(match_time_p2[i]), '%d-%m-%Y %H:%M:%S')"
   ]
  },
  {
   "cell_type": "code",
   "execution_count": 302,
   "metadata": {},
   "outputs": [],
   "source": [
    "dtl = dtl[::-1]"
   ]
  },
  {
   "cell_type": "code",
   "execution_count": 303,
   "metadata": {},
   "outputs": [],
   "source": [
    "dtl_p2 = dtl_p2[::-1]"
   ]
  },
  {
   "cell_type": "code",
   "execution_count": 304,
   "metadata": {},
   "outputs": [],
   "source": [
    "meal_data_dt = []\n",
    "for i in range(len(dtl)-1):\n",
    "    if((dtl[i] + timedelta(hours = 2)) < dtl[i+1]):\n",
    "        meal_data_dt.append(dtl[i])\n",
    "    if((dtl[i] + timedelta(hours = 2)) == dtl[i+1]):\n",
    "        meal_data_dt.append(dtl[i+1] + timedelta(hours = -0.5))\n",
    "    "
   ]
  },
  {
   "cell_type": "code",
   "execution_count": 305,
   "metadata": {},
   "outputs": [],
   "source": [
    "meal_data_dt_p2 = []\n",
    "for i in range(len(dtl_p2)-1):\n",
    "    if((dtl_p2[i] + timedelta(hours = 2)) < dtl_p2[i+1]):\n",
    "        meal_data_dt_p2.append(dtl_p2[i])\n",
    "    if((dtl_p2[i] + timedelta(hours = 2)) == dtl_p2[i+1]):\n",
    "        meal_data_dt_p2.append(dtl_p2[i+1] + timedelta(hours = -0.5))"
   ]
  },
  {
   "cell_type": "code",
   "execution_count": 306,
   "metadata": {},
   "outputs": [],
   "source": [
    "no_meal_data_dt = []\n",
    "for i in range(len(dtl)-1):\n",
    "    if((dtl[i] + timedelta(hours = 4)) < dtl[i+1]):\n",
    "        no_meal_data_dt.append(dtl[i] + timedelta(hours = 2))"
   ]
  },
  {
   "cell_type": "code",
   "execution_count": 307,
   "metadata": {},
   "outputs": [],
   "source": [
    "no_meal_data_dt_p2 = []\n",
    "for i in range(len(dtl_p2)-1):\n",
    "    if((dtl_p2[i] + timedelta(hours = 4)) < dtl_p2[i+1]):\n",
    "        no_meal_data_dt_p2.append(dtl_p2[i] + timedelta(hours = 2))"
   ]
  },
  {
   "cell_type": "code",
   "execution_count": 308,
   "metadata": {},
   "outputs": [],
   "source": [
    "cgm_data_dt = []\n",
    "for i in range(len(cgm_data)):\n",
    "    cgm_data_dt.append(datetime.strptime(str(cgm_data.loc[i, 'Date']) + ' ' + str(cgm_data.loc[i, 'Time']), '%m/%d/%Y %H:%M:%S'))"
   ]
  },
  {
   "cell_type": "code",
   "execution_count": 309,
   "metadata": {},
   "outputs": [],
   "source": [
    "cgm_data_dt_p2 = []\n",
    "for i in range(len(cgm_data_p2)):\n",
    "    cgm_data_dt_p2.append(datetime.strptime(str(cgm_data_p2.loc[i, 'Date']) + ' ' + str(cgm_data_p2.loc[i, 'Time']), '%d-%m-%Y %H:%M:%S'))"
   ]
  },
  {
   "cell_type": "markdown",
   "metadata": {},
   "source": [
    "# meal data of cgm\n"
   ]
  },
  {
   "cell_type": "code",
   "execution_count": 310,
   "metadata": {},
   "outputs": [],
   "source": [
    "cgm_tm_match_meal = []\n",
    "for i in range(len(meal_data_dt)):\n",
    "    for j in range(len(cgm_data_dt)):\n",
    "        if(cgm_data_dt[j] < meal_data_dt[i] + timedelta(minutes = 5)):\n",
    "            cgm_tm_match_meal.append((cgm_data_dt[j]))\n",
    "            break"
   ]
  },
  {
   "cell_type": "code",
   "execution_count": 311,
   "metadata": {},
   "outputs": [],
   "source": [
    "cgm_tm_match_meal_p2 = []\n",
    "for i in range(len(meal_data_dt_p2)):\n",
    "    for j in range(len(cgm_data_dt_p2)):\n",
    "        if(cgm_data_dt_p2[j] < meal_data_dt_p2[i] + timedelta(minutes = 5)):\n",
    "            cgm_tm_match_meal_p2.append((cgm_data_dt_p2[j]))\n",
    "            break"
   ]
  },
  {
   "cell_type": "markdown",
   "metadata": {},
   "source": [
    "# no meal data of CGM\n"
   ]
  },
  {
   "cell_type": "code",
   "execution_count": 312,
   "metadata": {},
   "outputs": [],
   "source": [
    "cgm_tm_match_no_meal = []\n",
    "for i in range(len(no_meal_data_dt)):\n",
    "    for j in range(len(cgm_data_dt)):\n",
    "        if(cgm_data_dt[j] < no_meal_data_dt[i] + timedelta(minutes = 5)):\n",
    "            cgm_tm_match_no_meal.append((cgm_data_dt[j]))\n",
    "            break"
   ]
  },
  {
   "cell_type": "code",
   "execution_count": 313,
   "metadata": {},
   "outputs": [],
   "source": [
    "cgm_tm_match_no_meal_p2 = []\n",
    "for i in range(len(no_meal_data_dt_p2)):\n",
    "    for j in range(len(cgm_data_dt_p2)):\n",
    "        if(cgm_data_dt_p2[j] < no_meal_data_dt_p2[i] + timedelta(minutes = 5)):\n",
    "            cgm_tm_match_no_meal_p2.append((cgm_data_dt_p2[j]))\n",
    "            break"
   ]
  },
  {
   "cell_type": "code",
   "execution_count": 314,
   "metadata": {},
   "outputs": [],
   "source": [
    "cgm_data['timestamp'] = cgm_data_dt[::-1]"
   ]
  },
  {
   "cell_type": "code",
   "execution_count": 315,
   "metadata": {},
   "outputs": [],
   "source": [
    "cgm_data_p2['timestamp'] = cgm_data_dt_p2[::-1]"
   ]
  },
  {
   "cell_type": "markdown",
   "metadata": {},
   "source": [
    "# Meal data cgm values"
   ]
  },
  {
   "cell_type": "code",
   "execution_count": 316,
   "metadata": {},
   "outputs": [],
   "source": [
    "temp_index_list = []\n",
    "for i in cgm_tm_match_meal:\n",
    "    temp_index_list.append(cgm_data[cgm_data['timestamp'] == i].index[0])"
   ]
  },
  {
   "cell_type": "code",
   "execution_count": 317,
   "metadata": {},
   "outputs": [],
   "source": [
    "temp_index_list_p2 = []\n",
    "for i in cgm_tm_match_meal_p2:\n",
    "    temp_index_list_p2.append(cgm_data_p2[cgm_data_p2['timestamp'] == i].index[0])"
   ]
  },
  {
   "cell_type": "code",
   "execution_count": 318,
   "metadata": {},
   "outputs": [],
   "source": [
    "cgm_value_stretch_meal = []\n",
    "for i in range(1,len(temp_index_list)):\n",
    "    cgm_value_one_stretch_meal = []\n",
    "    for j in range(30):\n",
    "        cgm_value_one_stretch_meal.append(cgm_data.loc[(temp_index_list[i] + 6 - j),'Sensor Glucose (mg/dL)'])\n",
    "    if(not(np.isnan(cgm_value_one_stretch_meal).all())):\n",
    "        cgm_value_stretch_meal.append(cgm_value_one_stretch_meal)\n"
   ]
  },
  {
   "cell_type": "code",
   "execution_count": 319,
   "metadata": {},
   "outputs": [],
   "source": [
    "cgm_value_stretch_meal_p2 = []\n",
    "for i in range(1,len(temp_index_list_p2)):\n",
    "    cgm_value_one_stretch_meal_p2 = []\n",
    "    for j in range(30):\n",
    "        cgm_value_one_stretch_meal_p2.append(cgm_data_p2.loc[(temp_index_list_p2[i] + 6 - j),'Sensor Glucose (mg/dL)'])\n",
    "    if(not(np.isnan(cgm_value_one_stretch_meal_p2).all())):\n",
    "        cgm_value_stretch_meal_p2.append(cgm_value_one_stretch_meal_p2)"
   ]
  },
  {
   "cell_type": "code",
   "execution_count": 320,
   "metadata": {
    "scrolled": true
   },
   "outputs": [],
   "source": [
    "for i in range(len(cgm_value_stretch_meal)):\n",
    "    for j in range(len(cgm_value_stretch_meal[i])):\n",
    "        if(np.isnan(cgm_value_stretch_meal[i][j])):\n",
    "            cgm_value_stretch_meal[i][j] = int(np.nanmean(cgm_value_stretch_meal[i]))"
   ]
  },
  {
   "cell_type": "code",
   "execution_count": 321,
   "metadata": {},
   "outputs": [],
   "source": [
    "for i in range(len(cgm_value_stretch_meal_p2)):\n",
    "    for j in range(len(cgm_value_stretch_meal_p2[i])):\n",
    "        if(np.isnan(cgm_value_stretch_meal_p2[i][j])):\n",
    "            cgm_value_stretch_meal_p2[i][j] = int(np.nanmean(cgm_value_stretch_meal_p2[i]))"
   ]
  },
  {
   "cell_type": "code",
   "execution_count": 322,
   "metadata": {},
   "outputs": [],
   "source": [
    "cgm_value_stretch_meal_df = pd.DataFrame(cgm_value_stretch_meal)"
   ]
  },
  {
   "cell_type": "code",
   "execution_count": 323,
   "metadata": {},
   "outputs": [],
   "source": [
    "cgm_value_stretch_meal_df_p2 = pd.DataFrame(cgm_value_stretch_meal_p2)"
   ]
  },
  {
   "cell_type": "markdown",
   "metadata": {},
   "source": [
    "# no meal data cgm values"
   ]
  },
  {
   "cell_type": "code",
   "execution_count": 324,
   "metadata": {},
   "outputs": [],
   "source": [
    "temp_index_no_meal_list = []\n",
    "for i in cgm_tm_match_no_meal:\n",
    "    temp_index_no_meal_list.append(cgm_data[cgm_data['timestamp'] == i].index[0])"
   ]
  },
  {
   "cell_type": "code",
   "execution_count": 325,
   "metadata": {},
   "outputs": [],
   "source": [
    "temp_index_no_meal_list_p2 = []\n",
    "for i in cgm_tm_match_no_meal_p2:\n",
    "    temp_index_no_meal_list_p2.append(cgm_data_p2[cgm_data_p2['timestamp'] == i].index[0])"
   ]
  },
  {
   "cell_type": "code",
   "execution_count": 326,
   "metadata": {},
   "outputs": [],
   "source": [
    "cgm_value_stretch_no_meal = []\n",
    "for i in range(len(temp_index_no_meal_list)):\n",
    "    cgm_value_one_stretch_no_meal = []\n",
    "    for j in range(24):\n",
    "        cgm_value_one_stretch_no_meal.append(cgm_data.loc[(temp_index_no_meal_list[i] - j),'Sensor Glucose (mg/dL)'])\n",
    "    if(not(np.isnan(cgm_value_one_stretch_no_meal).all())):\n",
    "        cgm_value_stretch_no_meal.append(cgm_value_one_stretch_no_meal)"
   ]
  },
  {
   "cell_type": "code",
   "execution_count": 327,
   "metadata": {},
   "outputs": [],
   "source": [
    "cgm_value_stretch_no_meal_p2 = []\n",
    "for i in range(len(temp_index_no_meal_list_p2)):\n",
    "    cgm_value_one_stretch_no_meal_p2 = []\n",
    "    for j in range(24):\n",
    "        cgm_value_one_stretch_no_meal_p2.append(cgm_data_p2.loc[(temp_index_no_meal_list_p2[i] - j),'Sensor Glucose (mg/dL)'])\n",
    "    if(not(np.isnan(cgm_value_one_stretch_no_meal_p2).all())):\n",
    "        cgm_value_stretch_no_meal_p2.append(cgm_value_one_stretch_no_meal_p2)"
   ]
  },
  {
   "cell_type": "code",
   "execution_count": 328,
   "metadata": {},
   "outputs": [],
   "source": [
    "for i in range(len(cgm_value_stretch_no_meal)):\n",
    "    for j in range(len(cgm_value_stretch_no_meal[i])):\n",
    "        if(np.isnan(cgm_value_stretch_no_meal[i][j])):\n",
    "            cgm_value_stretch_no_meal[i][j] = (np.nanmean(cgm_value_stretch_no_meal[i]))"
   ]
  },
  {
   "cell_type": "code",
   "execution_count": 329,
   "metadata": {},
   "outputs": [],
   "source": [
    "for i in range(len(cgm_value_stretch_no_meal_p2)):\n",
    "    for j in range(len(cgm_value_stretch_no_meal_p2[i])):\n",
    "        if(np.isnan(cgm_value_stretch_no_meal_p2[i][j])):\n",
    "            cgm_value_stretch_no_meal_p2[i][j] = (np.nanmean(cgm_value_stretch_no_meal_p2[i]))"
   ]
  },
  {
   "cell_type": "code",
   "execution_count": 330,
   "metadata": {},
   "outputs": [],
   "source": [
    "cgm_value_stretch_no_meal_df = pd.DataFrame(cgm_value_stretch_no_meal)"
   ]
  },
  {
   "cell_type": "code",
   "execution_count": 331,
   "metadata": {},
   "outputs": [],
   "source": [
    "cgm_value_stretch_no_meal_df_p2 = pd.DataFrame(cgm_value_stretch_no_meal_p2)"
   ]
  },
  {
   "cell_type": "markdown",
   "metadata": {},
   "source": [
    "# Feature Engineering"
   ]
  },
  {
   "cell_type": "markdown",
   "metadata": {},
   "source": [
    "# CGM Velocity, tmax"
   ]
  },
  {
   "cell_type": "code",
   "execution_count": 332,
   "metadata": {},
   "outputs": [],
   "source": [
    "cgm_velocity_meal_p1 = np.diff(cgm_value_stretch_meal_df)"
   ]
  },
  {
   "cell_type": "code",
   "execution_count": 333,
   "metadata": {},
   "outputs": [],
   "source": [
    "cgm_velocity_meal_p2 = np.diff(cgm_value_stretch_meal_df_p2)"
   ]
  },
  {
   "cell_type": "code",
   "execution_count": 334,
   "metadata": {},
   "outputs": [],
   "source": [
    "cgm_velocity_no_meal_p1 = np.diff(cgm_value_stretch_no_meal_df)"
   ]
  },
  {
   "cell_type": "code",
   "execution_count": 335,
   "metadata": {},
   "outputs": [],
   "source": [
    "cgm_velocity_no_meal_p2 = np.diff(cgm_value_stretch_no_meal_df_p2)"
   ]
  },
  {
   "cell_type": "code",
   "execution_count": 336,
   "metadata": {},
   "outputs": [],
   "source": [
    "max_cgm_velocity_meal_p1 = []\n",
    "for i in range(len(cgm_velocity_meal_p1)):\n",
    "    max_cgm_velocity_meal_p1.append([max(cgm_velocity_meal_p1[i]), np.argmax(cgm_velocity_meal_p1[i])*5])"
   ]
  },
  {
   "cell_type": "code",
   "execution_count": 337,
   "metadata": {},
   "outputs": [],
   "source": [
    "max_cgm_velocity_meal_p2 = []\n",
    "for i in range(len(cgm_velocity_meal_p2)):\n",
    "    max_cgm_velocity_meal_p2.append([max(cgm_velocity_meal_p2[i]), np.argmax(cgm_velocity_meal_p2[i])*5])"
   ]
  },
  {
   "cell_type": "code",
   "execution_count": 338,
   "metadata": {},
   "outputs": [],
   "source": [
    "max_cgm_velocity_no_meal_p1 = []\n",
    "for i in range(len(cgm_velocity_no_meal_p1)):\n",
    "    max_cgm_velocity_no_meal_p1.append([max(cgm_velocity_no_meal_p1[i]), np.argmax(cgm_velocity_no_meal_p1[i])*5])"
   ]
  },
  {
   "cell_type": "code",
   "execution_count": 339,
   "metadata": {},
   "outputs": [],
   "source": [
    "max_cgm_velocity_no_meal_p2 = []\n",
    "for i in range(len(cgm_velocity_no_meal_p2)):\n",
    "    max_cgm_velocity_no_meal_p2.append([max(cgm_velocity_no_meal_p2[i]), np.argmax(cgm_velocity_no_meal_p2[i])*5])"
   ]
  },
  {
   "cell_type": "markdown",
   "metadata": {},
   "source": [
    "# CGMmax - CGMmin"
   ]
  },
  {
   "cell_type": "code",
   "execution_count": 340,
   "metadata": {},
   "outputs": [],
   "source": [
    "cgm_range_meal_p1 = cgm_value_stretch_meal_df.max(axis = 1) - cgm_value_stretch_meal_df.min(axis = 1)"
   ]
  },
  {
   "cell_type": "code",
   "execution_count": 341,
   "metadata": {},
   "outputs": [],
   "source": [
    "cgm_range_no_meal_p1 = cgm_value_stretch_no_meal_df.max(axis = 1) - cgm_value_stretch_no_meal_df.min(axis = 1)"
   ]
  },
  {
   "cell_type": "code",
   "execution_count": 342,
   "metadata": {},
   "outputs": [],
   "source": [
    "cgm_range_meal_p2 = cgm_value_stretch_meal_df_p2.max(axis = 1) - cgm_value_stretch_meal_df_p2.min(axis = 1)"
   ]
  },
  {
   "cell_type": "code",
   "execution_count": 343,
   "metadata": {},
   "outputs": [],
   "source": [
    "cgm_range_no_meal_p2 = cgm_value_stretch_no_meal_df_p2.max(axis = 1) - cgm_value_stretch_no_meal_df_p2.min(axis = 1)"
   ]
  },
  {
   "cell_type": "markdown",
   "metadata": {},
   "source": [
    "# Important duration"
   ]
  },
  {
   "cell_type": "code",
   "execution_count": 344,
   "metadata": {},
   "outputs": [],
   "source": [
    "imp_duration_meal_p1 = (cgm_value_stretch_meal_df.idxmax(axis = 1))*5"
   ]
  },
  {
   "cell_type": "code",
   "execution_count": 345,
   "metadata": {},
   "outputs": [],
   "source": [
    "imp_duration_no_meal_p1 = (cgm_value_stretch_no_meal_df.idxmax(axis = 1))*5"
   ]
  },
  {
   "cell_type": "code",
   "execution_count": 346,
   "metadata": {},
   "outputs": [],
   "source": [
    "imp_duration_meal_p2 = (cgm_value_stretch_meal_df_p2.idxmax(axis = 1))*5"
   ]
  },
  {
   "cell_type": "code",
   "execution_count": 347,
   "metadata": {},
   "outputs": [],
   "source": [
    "imp_duration_no_meal_p2 = (cgm_value_stretch_no_meal_df_p2.idxmax(axis = 1))*5"
   ]
  },
  {
   "cell_type": "markdown",
   "metadata": {},
   "source": [
    "# FFT"
   ]
  },
  {
   "cell_type": "code",
   "execution_count": 348,
   "metadata": {},
   "outputs": [],
   "source": [
    "fft_meal_p1 = []\n",
    "temp1 = []\n",
    "#for i in range(len(cgm_value_stretch_meal_df)):\n",
    "temp1 = abs(np.fft.fft(cgm_value_stretch_meal_df)) #[i:i+1])).flatten()\n",
    "for i in range(len(temp1)):\n",
    "    temp1[i].sort()\n",
    "    fft_meal_p1.append([temp1[i][-2], temp1[i][-4]])"
   ]
  },
  {
   "cell_type": "code",
   "execution_count": 349,
   "metadata": {},
   "outputs": [],
   "source": [
    "fft_no_meal_p1 = []\n",
    "temp1 = []\n",
    "#for i in range(len(cgm_value_stretch_meal_df)):\n",
    "temp1 = abs(np.fft.fft(cgm_value_stretch_no_meal_df)) #[i:i+1])).flatten()\n",
    "for i in range(len(temp1)):\n",
    "    temp1[i].sort()\n",
    "    fft_no_meal_p1.append([temp1[i][-2], temp1[i][-4]])"
   ]
  },
  {
   "cell_type": "code",
   "execution_count": 350,
   "metadata": {},
   "outputs": [],
   "source": [
    "fft_meal_p2 = []\n",
    "temp1 = []\n",
    "#for i in range(len(cgm_value_stretch_meal_df)):\n",
    "temp1 = abs(np.fft.fft(cgm_value_stretch_meal_df_p2)) #[i:i+1])).flatten()\n",
    "for i in range(len(temp1)):\n",
    "    temp1[i].sort()\n",
    "    fft_meal_p2.append([temp1[i][-2], temp1[i][-4]])"
   ]
  },
  {
   "cell_type": "code",
   "execution_count": 351,
   "metadata": {},
   "outputs": [],
   "source": [
    "fft_no_meal_p2 = []\n",
    "temp1 = []\n",
    "#for i in range(len(cgm_value_stretch_meal_df)):\n",
    "temp1 = abs(np.fft.fft(cgm_value_stretch_no_meal_df_p2)) #[i:i+1])).flatten()\n",
    "for i in range(len(temp1)):\n",
    "    temp1[i].sort()\n",
    "    fft_no_meal_p2.append([temp1[i][-2], temp1[i][-4]])"
   ]
  },
  {
   "cell_type": "markdown",
   "metadata": {},
   "source": [
    "# windowed mean"
   ]
  },
  {
   "cell_type": "code",
   "execution_count": 352,
   "metadata": {},
   "outputs": [],
   "source": [
    "win_mean_meal_p1 = []\n",
    "win_mean_meal_p1.append([cgm_value_stretch_meal_df.rolling(3, win_type='triang', axis = 1).mean()[8], cgm_value_stretch_meal_df.rolling(3, win_type='triang', axis = 1).mean()[11], cgm_value_stretch_meal_df.rolling(3, win_type='triang', axis = 1).mean()[14], cgm_value_stretch_meal_df.rolling(3, win_type='triang', axis = 1).mean()[17], cgm_value_stretch_meal_df.rolling(3, win_type='triang', axis = 1).mean()[20]])"
   ]
  },
  {
   "cell_type": "code",
   "execution_count": 353,
   "metadata": {},
   "outputs": [],
   "source": [
    "win_mean_no_meal_p1 = []\n",
    "win_mean_no_meal_p1.append([cgm_value_stretch_no_meal_df.rolling(3, win_type='triang', axis = 1).mean()[8], cgm_value_stretch_no_meal_df.rolling(3, win_type='triang', axis = 1).mean()[11], cgm_value_stretch_no_meal_df.rolling(3, win_type='triang', axis = 1).mean()[14], cgm_value_stretch_no_meal_df.rolling(3, win_type='triang', axis = 1).mean()[17], cgm_value_stretch_no_meal_df.rolling(3, win_type='triang', axis = 1).mean()[20]])"
   ]
  },
  {
   "cell_type": "code",
   "execution_count": 354,
   "metadata": {},
   "outputs": [],
   "source": [
    "win_mean_meal_p2 = []\n",
    "win_mean_meal_p2.append([cgm_value_stretch_meal_df_p2.rolling(3, win_type='triang', axis = 1).mean()[8], cgm_value_stretch_meal_df_p2.rolling(3, win_type='triang', axis = 1).mean()[11], cgm_value_stretch_meal_df_p2.rolling(3, win_type='triang', axis = 1).mean()[14], cgm_value_stretch_meal_df_p2.rolling(3, win_type='triang', axis = 1).mean()[17], cgm_value_stretch_meal_df_p2.rolling(3, win_type='triang', axis = 1).mean()[20]])"
   ]
  },
  {
   "cell_type": "code",
   "execution_count": 355,
   "metadata": {},
   "outputs": [],
   "source": [
    "win_mean_no_meal_p2 = []\n",
    "win_mean_no_meal_p2.append([cgm_value_stretch_no_meal_df_p2.rolling(3, win_type='triang', axis = 1).mean()[8], cgm_value_stretch_no_meal_df_p2.rolling(3, win_type='triang', axis = 1).mean()[11], cgm_value_stretch_no_meal_df_p2.rolling(3, win_type='triang', axis = 1).mean()[14], cgm_value_stretch_no_meal_df_p2.rolling(3, win_type='triang', axis = 1).mean()[17], cgm_value_stretch_no_meal_df_p2.rolling(3, win_type='triang', axis = 1).mean()[20]])"
   ]
  },
  {
   "cell_type": "code",
   "execution_count": 356,
   "metadata": {},
   "outputs": [],
   "source": [
    "feat_win_meal_p2 = []\n",
    "for j in range(5):\n",
    "    temp = []\n",
    "    for i in range(len(win_mean_meal_p2[0][j])):\n",
    "        temp.append(win_mean_meal_p2[0][j][i])\n",
    "    feat_win_meal_p2.append(temp)\n",
    "feat_win_meal_p2 = np.array(feat_win_meal_p2).T"
   ]
  },
  {
   "cell_type": "code",
   "execution_count": 357,
   "metadata": {},
   "outputs": [],
   "source": [
    "feat_win_meal_p1 = []\n",
    "for j in range(5):\n",
    "    temp = []\n",
    "    for i in range(len(win_mean_meal_p1[0][j])):\n",
    "        temp.append(win_mean_meal_p1[0][j][i])\n",
    "    feat_win_meal_p1.append(temp)\n",
    "feat_win_meal_p1 = np.array(feat_win_meal_p1).T"
   ]
  },
  {
   "cell_type": "code",
   "execution_count": 358,
   "metadata": {},
   "outputs": [],
   "source": [
    "feat_win_no_meal_p1 = []\n",
    "for j in range(5):\n",
    "    temp = []\n",
    "    for i in range(len(win_mean_no_meal_p1[0][j])):\n",
    "        temp.append(win_mean_no_meal_p1[0][j][i])\n",
    "    feat_win_no_meal_p1.append(temp)\n",
    "feat_win_no_meal_p1 = np.array(feat_win_no_meal_p1).T"
   ]
  },
  {
   "cell_type": "code",
   "execution_count": 359,
   "metadata": {},
   "outputs": [],
   "source": [
    "feat_win_no_meal_p2 = []\n",
    "for j in range(5):\n",
    "    temp = []\n",
    "    for i in range(len(win_mean_no_meal_p2[0][j])):\n",
    "        temp.append(win_mean_no_meal_p2[0][j][i])\n",
    "    feat_win_no_meal_p2.append(temp)\n",
    "feat_win_no_meal_p2 = np.array(feat_win_no_meal_p2).T"
   ]
  },
  {
   "cell_type": "markdown",
   "metadata": {},
   "source": [
    "# Creating feature matrix"
   ]
  },
  {
   "cell_type": "code",
   "execution_count": 360,
   "metadata": {},
   "outputs": [],
   "source": [
    "'''max_cgm_velocity_meal_p1 = []\n",
    "for i in range(len(cgm_velocity_meal_p1)):\n",
    "    max_cgm_velocity_meal_p1.append([max(cgm_velocity_meal_p1[i]), np.argmax(cgm_velocity_meal_p1[i])*5])'''\n",
    "final_feature_matrix = []\n",
    "feature_matrix = []\n",
    "feature_matrix.append(max_cgm_velocity_meal_p1)\n",
    "final_feature_matrix.append(feature_matrix[0])\n",
    "final_feature_matrix = final_feature_matrix[0]"
   ]
  },
  {
   "cell_type": "code",
   "execution_count": 361,
   "metadata": {},
   "outputs": [],
   "source": [
    "'''max_cgm_velocity_no_meal_p1 = []\n",
    "for i in range(len(cgm_velocity_no_meal_p1)):\n",
    "    max_cgm_velocity_no_meal_p1.append([max(cgm_velocity_no_meal_p1[i]), np.argmax(cgm_velocity_no_meal_p1[i])*5])'''\n",
    "final_feature_matrix_no_meal_p1 = []\n",
    "feature_matrix_no_meal_p1 = []\n",
    "feature_matrix_no_meal_p1.append(max_cgm_velocity_no_meal_p1)\n",
    "final_feature_matrix_no_meal_p1.append(feature_matrix_no_meal_p1[0])\n",
    "final_feature_matrix_no_meal_p1 = final_feature_matrix_no_meal_p1[0]"
   ]
  },
  {
   "cell_type": "code",
   "execution_count": 362,
   "metadata": {},
   "outputs": [],
   "source": [
    "'''max_cgm_velocity_meal_p2 = []\n",
    "for i in range(len(cgm_velocity_meal_p2)):\n",
    "    max_cgm_velocity_meal_p2.append([max(cgm_velocity_meal_p2[i]), np.argmax(cgm_velocity_meal_p2[i])*5])'''\n",
    "final_feature_matrix_meal_p2 = []\n",
    "feature_matrix_meal_p2 = []\n",
    "feature_matrix_meal_p2.append(max_cgm_velocity_meal_p2)\n",
    "final_feature_matrix_meal_p2.append(feature_matrix_meal_p2[0])\n",
    "final_feature_matrix_meal_p2 = final_feature_matrix_meal_p2[0]"
   ]
  },
  {
   "cell_type": "code",
   "execution_count": 363,
   "metadata": {},
   "outputs": [],
   "source": [
    "'''max_cgm_velocity_no_meal_p2 = []\n",
    "for i in range(len(cgm_velocity_no_meal_p2)):\n",
    "    max_cgm_velocity_no_meal_p2.append([max(cgm_velocity_no_meal_p2[i]), np.argmax(cgm_velocity_no_meal_p2[i])*5])'''\n",
    "final_feature_matrix_no_meal_p2 = []\n",
    "feature_matrix_no_meal_p2 = []\n",
    "feature_matrix_no_meal_p2.append(max_cgm_velocity_no_meal_p2)\n",
    "final_feature_matrix_no_meal_p2.append(feature_matrix_no_meal_p2[0])\n",
    "final_feature_matrix_no_meal_p2 = final_feature_matrix_no_meal_p2[0]"
   ]
  },
  {
   "cell_type": "code",
   "execution_count": 364,
   "metadata": {},
   "outputs": [],
   "source": [
    "for i in range(len(final_feature_matrix)):\n",
    "    final_feature_matrix[i].append(cgm_range_meal_p1[i])"
   ]
  },
  {
   "cell_type": "code",
   "execution_count": 365,
   "metadata": {},
   "outputs": [],
   "source": [
    "for i in range(len(final_feature_matrix_no_meal_p1)):\n",
    "    final_feature_matrix_no_meal_p1[i].append(cgm_range_no_meal_p1[i])"
   ]
  },
  {
   "cell_type": "code",
   "execution_count": 366,
   "metadata": {},
   "outputs": [],
   "source": [
    "for i in range(len(final_feature_matrix_meal_p2)):\n",
    "    final_feature_matrix_meal_p2[i].append(cgm_range_meal_p2[i])"
   ]
  },
  {
   "cell_type": "code",
   "execution_count": 367,
   "metadata": {},
   "outputs": [],
   "source": [
    "for i in range(len(final_feature_matrix_no_meal_p2)):\n",
    "    final_feature_matrix_no_meal_p2[i].append(cgm_range_no_meal_p2[i])"
   ]
  },
  {
   "cell_type": "markdown",
   "metadata": {},
   "source": [
    "# important duration for test"
   ]
  },
  {
   "cell_type": "code",
   "execution_count": 368,
   "metadata": {},
   "outputs": [],
   "source": [
    "for i in range(len(final_feature_matrix_no_meal_p1)):\n",
    "    final_feature_matrix_no_meal_p1[i].append(imp_duration_no_meal_p1[i])"
   ]
  },
  {
   "cell_type": "code",
   "execution_count": 369,
   "metadata": {},
   "outputs": [],
   "source": [
    "for i in range(len(final_feature_matrix)):\n",
    "    final_feature_matrix[i].append(imp_duration_meal_p1[i])"
   ]
  },
  {
   "cell_type": "code",
   "execution_count": 370,
   "metadata": {},
   "outputs": [],
   "source": [
    "for i in range(len(final_feature_matrix_meal_p2)):\n",
    "    final_feature_matrix_meal_p2[i].append(imp_duration_meal_p2[i])"
   ]
  },
  {
   "cell_type": "code",
   "execution_count": 371,
   "metadata": {},
   "outputs": [],
   "source": [
    "for i in range(len(final_feature_matrix_no_meal_p2)):\n",
    "    final_feature_matrix_no_meal_p2[i].append(imp_duration_no_meal_p2[i])"
   ]
  },
  {
   "cell_type": "code",
   "execution_count": 372,
   "metadata": {},
   "outputs": [],
   "source": [
    "for i in range(len(final_feature_matrix)):\n",
    "    final_feature_matrix[i].append(fft_meal_p1[i][0])\n",
    "    final_feature_matrix[i].append(fft_meal_p1[i][1])"
   ]
  },
  {
   "cell_type": "code",
   "execution_count": 373,
   "metadata": {},
   "outputs": [],
   "source": [
    "for i in range(len(final_feature_matrix_no_meal_p1)):\n",
    "    final_feature_matrix_no_meal_p1[i].append(fft_no_meal_p1[i][0])\n",
    "    final_feature_matrix_no_meal_p1[i].append(fft_no_meal_p1[i][1])"
   ]
  },
  {
   "cell_type": "code",
   "execution_count": 374,
   "metadata": {},
   "outputs": [],
   "source": [
    "for i in range(len(final_feature_matrix_meal_p2)):\n",
    "    final_feature_matrix_meal_p2[i].append(fft_meal_p2[i][0])\n",
    "    final_feature_matrix_meal_p2[i].append(fft_meal_p2[i][1])"
   ]
  },
  {
   "cell_type": "code",
   "execution_count": 375,
   "metadata": {},
   "outputs": [],
   "source": [
    "for i in range(len(final_feature_matrix_no_meal_p2)):\n",
    "    final_feature_matrix_no_meal_p2[i].append(fft_no_meal_p2[i][0])\n",
    "    final_feature_matrix_no_meal_p2[i].append(fft_no_meal_p2[i][1])"
   ]
  },
  {
   "cell_type": "code",
   "execution_count": 376,
   "metadata": {},
   "outputs": [],
   "source": [
    "for i in range(len(final_feature_matrix)):\n",
    "    for j in range(5):\n",
    "        final_feature_matrix[i].append(feat_win_meal_p1[i][j])"
   ]
  },
  {
   "cell_type": "code",
   "execution_count": 377,
   "metadata": {},
   "outputs": [],
   "source": [
    "for i in range(len(final_feature_matrix_no_meal_p1)):\n",
    "    for j in range(5):\n",
    "        final_feature_matrix_no_meal_p1[i].append(feat_win_no_meal_p1[i][j])"
   ]
  },
  {
   "cell_type": "code",
   "execution_count": 378,
   "metadata": {},
   "outputs": [],
   "source": [
    "for i in range(len(final_feature_matrix_no_meal_p2)):\n",
    "    for j in range(5):\n",
    "        final_feature_matrix_no_meal_p2[i].append(feat_win_no_meal_p2[i][j])"
   ]
  },
  {
   "cell_type": "code",
   "execution_count": 379,
   "metadata": {},
   "outputs": [],
   "source": [
    "for i in range(len(final_feature_matrix_meal_p2)):\n",
    "    for j in range(5):\n",
    "        final_feature_matrix_meal_p2[i].append(feat_win_meal_p2[i][j])"
   ]
  },
  {
   "cell_type": "code",
   "execution_count": 380,
   "metadata": {},
   "outputs": [],
   "source": [
    "final_feature_matrix = (np.array(final_feature_matrix).T).T"
   ]
  },
  {
   "cell_type": "code",
   "execution_count": 381,
   "metadata": {},
   "outputs": [],
   "source": [
    "final_feature_matrix_no_meal_p1 = (np.array(final_feature_matrix_no_meal_p1).T).T"
   ]
  },
  {
   "cell_type": "code",
   "execution_count": 382,
   "metadata": {},
   "outputs": [],
   "source": [
    "final_feature_matrix_meal_p2 = (np.array(final_feature_matrix_meal_p2).T).T"
   ]
  },
  {
   "cell_type": "code",
   "execution_count": 383,
   "metadata": {},
   "outputs": [],
   "source": [
    "final_feature_matrix_no_meal_p2 = (np.array(final_feature_matrix_no_meal_p2).T).T"
   ]
  },
  {
   "cell_type": "code",
   "execution_count": 384,
   "metadata": {},
   "outputs": [],
   "source": [
    "final_feature_df = pd.DataFrame(final_feature_matrix, columns=['Max CGM velocity', 'time at max vel', 'CGM max-min', 'Important duration', 'FFT1', 'FFT2', 'Win_mean1', 'Win_mean2', 'Win_mean3', 'Win_mean4', 'Win_mean5'])"
   ]
  },
  {
   "cell_type": "code",
   "execution_count": 385,
   "metadata": {},
   "outputs": [],
   "source": [
    "final_feature_df_no_meal_p1 = pd.DataFrame(final_feature_matrix_no_meal_p1, columns=['Max CGM velocity', 'time at max vel', 'CGM max-min', 'Important duration', 'FFT1', 'FFT2', 'Win_mean1', 'Win_mean2', 'Win_mean3', 'Win_mean4', 'Win_mean5'])"
   ]
  },
  {
   "cell_type": "code",
   "execution_count": 386,
   "metadata": {},
   "outputs": [],
   "source": [
    "final_feature_df_meal_p2 = pd.DataFrame(final_feature_matrix_meal_p2, columns=['Max CGM velocity', 'time at max vel', 'CGM max-min', 'Important duration', 'FFT1', 'FFT2', 'Win_mean1', 'Win_mean2', 'Win_mean3', 'Win_mean4', 'Win_mean5'])"
   ]
  },
  {
   "cell_type": "code",
   "execution_count": 387,
   "metadata": {},
   "outputs": [],
   "source": [
    "final_feature_df_no_meal_p2 = pd.DataFrame(final_feature_matrix_no_meal_p2, columns=['Max CGM velocity', 'time at max vel', 'CGM max-min', 'Important duration', 'FFT1', 'FFT2', 'Win_mean1', 'Win_mean2', 'Win_mean3', 'Win_mean4', 'Win_mean5'])"
   ]
  },
  {
   "cell_type": "code",
   "execution_count": 388,
   "metadata": {},
   "outputs": [],
   "source": [
    "final_feature_df_no_meal_p1['meal'] = 0"
   ]
  },
  {
   "cell_type": "code",
   "execution_count": 389,
   "metadata": {},
   "outputs": [],
   "source": [
    "final_feature_df['meal'] = 1"
   ]
  },
  {
   "cell_type": "code",
   "execution_count": 390,
   "metadata": {},
   "outputs": [],
   "source": [
    "final_feature_df_no_meal_p2['meal'] = 0"
   ]
  },
  {
   "cell_type": "code",
   "execution_count": 391,
   "metadata": {},
   "outputs": [],
   "source": [
    "final_feature_df_meal_p2['meal'] = 1"
   ]
  },
  {
   "cell_type": "markdown",
   "metadata": {},
   "source": [
    "# training data "
   ]
  },
  {
   "cell_type": "code",
   "execution_count": 392,
   "metadata": {},
   "outputs": [],
   "source": [
    "final_data_p1 = pd.concat([final_feature_df[0:200], final_feature_df_no_meal_p1[0:200]])"
   ]
  },
  {
   "cell_type": "markdown",
   "metadata": {},
   "source": [
    "# testing data"
   ]
  },
  {
   "cell_type": "code",
   "execution_count": 393,
   "metadata": {},
   "outputs": [],
   "source": [
    "test_final_data_p2 = pd.concat([final_feature_df_meal_p2, final_feature_df_no_meal_p2])"
   ]
  },
  {
   "cell_type": "code",
   "execution_count": 394,
   "metadata": {},
   "outputs": [],
   "source": [
    "\n",
    "X_train,X_test,y_train,y_test = train_test_split(final_data_p1.iloc[:,:-1], final_data_p1['meal'], test_size=0.25, random_state=0)"
   ]
  },
  {
   "cell_type": "markdown",
   "metadata": {},
   "source": [
    "# K-fold cross validation"
   ]
  },
  {
   "cell_type": "code",
   "execution_count": 395,
   "metadata": {},
   "outputs": [
    {
     "name": "stdout",
     "output_type": "stream",
     "text": [
      "Accuracy (K-fold): 0.830 (with SD: 0.067)\n"
     ]
    }
   ],
   "source": [
    "from sklearn.model_selection import KFold\n",
    "from sklearn.model_selection import cross_val_score\n",
    "\n",
    "cv = KFold(n_splits=10, random_state=1, shuffle=True)\n",
    "# create model\n",
    "model = LogisticRegression()\n",
    "model.fit(X_train,y_train)\n",
    "# evaluate model\n",
    "scores = cross_val_score(model, X_train, y_train, scoring='accuracy', cv=cv, n_jobs=-1)\n",
    "# report performance\n",
    "print('Accuracy (K-fold): %.3f (with SD: %.3f)' % (np.mean(scores), np.std(scores)))"
   ]
  },
  {
   "cell_type": "code",
   "execution_count": 396,
   "metadata": {},
   "outputs": [],
   "source": [
    "y_pred = model.predict(X_test)"
   ]
  },
  {
   "cell_type": "code",
   "execution_count": 397,
   "metadata": {},
   "outputs": [],
   "source": [
    "filename = 'finalized_model.sav'\n",
    "pickle.dump(model, open(filename, 'wb'))"
   ]
  },
  {
   "cell_type": "code",
   "execution_count": 398,
   "metadata": {},
   "outputs": [
    {
     "name": "stdout",
     "output_type": "stream",
     "text": [
      "Confusion matrix: \n",
      " [[38  7]\n",
      " [11 44]]\n",
      "Precision score: \n",
      " 0.8627450980392157\n"
     ]
    }
   ],
   "source": [
    "print('Confusion matrix: \\n',confusion_matrix(y_test, y_pred))\n",
    "print('Precision score: \\n',precision_score(y_test, y_pred))"
   ]
  },
  {
   "cell_type": "code",
   "execution_count": null,
   "metadata": {},
   "outputs": [],
   "source": []
  }
 ],
 "metadata": {
  "kernelspec": {
   "display_name": "Python 3",
   "language": "python",
   "name": "python3"
  },
  "language_info": {
   "codemirror_mode": {
    "name": "ipython",
    "version": 3
   },
   "file_extension": ".py",
   "mimetype": "text/x-python",
   "name": "python",
   "nbconvert_exporter": "python",
   "pygments_lexer": "ipython3",
   "version": "3.6.5"
  }
 },
 "nbformat": 4,
 "nbformat_minor": 2
}
