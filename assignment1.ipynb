{
 "cells": [
  {
   "cell_type": "code",
   "execution_count": 1,
   "metadata": {},
   "outputs": [],
   "source": [
    "import numpy as np\n",
    "import pandas as pd"
   ]
  },
  {
   "cell_type": "code",
   "execution_count": 2,
   "metadata": {},
   "outputs": [
    {
     "name": "stderr",
     "output_type": "stream",
     "text": [
      "C:\\Users\\nisha\\Anaconda3\\lib\\site-packages\\IPython\\core\\interactiveshell.py:2785: DtypeWarning: Columns (13,43) have mixed types. Specify dtype option on import or set low_memory=False.\n",
      "  interactivity=interactivity, compiler=compiler, result=result)\n"
     ]
    }
   ],
   "source": [
    "insulin_data = pd.DataFrame(pd.read_csv('insulinData.csv'))"
   ]
  },
  {
   "cell_type": "code",
   "execution_count": 3,
   "metadata": {},
   "outputs": [
    {
     "name": "stderr",
     "output_type": "stream",
     "text": [
      "C:\\Users\\nisha\\Anaconda3\\lib\\site-packages\\IPython\\core\\interactiveshell.py:2785: DtypeWarning: Columns (32) have mixed types. Specify dtype option on import or set low_memory=False.\n",
      "  interactivity=interactivity, compiler=compiler, result=result)\n"
     ]
    }
   ],
   "source": [
    "cgm_data = pd.DataFrame(pd.read_csv('CGMData.csv'))"
   ]
  },
  {
   "cell_type": "code",
   "execution_count": 4,
   "metadata": {},
   "outputs": [],
   "source": [
    "for i in range(len(insulin_data)):\n",
    "    if(insulin_data.loc[i, 'Alarm'] == 'AUTO MODE ACTIVE PLGM OFF'):\n",
    "        final_date, match_time = insulin_data.loc[i, 'Date'], insulin_data.loc[i, 'Time']"
   ]
  },
  {
   "cell_type": "code",
   "execution_count": 5,
   "metadata": {},
   "outputs": [],
   "source": [
    "from datetime import datetime "
   ]
  },
  {
   "cell_type": "code",
   "execution_count": 6,
   "metadata": {},
   "outputs": [],
   "source": [
    "match_time = datetime.strptime(match_time, '%H:%M:%S').time()"
   ]
  },
  {
   "cell_type": "code",
   "execution_count": 7,
   "metadata": {},
   "outputs": [],
   "source": [
    "match_time = str(match_time)"
   ]
  },
  {
   "cell_type": "code",
   "execution_count": 8,
   "metadata": {},
   "outputs": [],
   "source": [
    "h,m,s = match_time.split(':')\n",
    "time_sec = h+m+s"
   ]
  },
  {
   "cell_type": "code",
   "execution_count": 9,
   "metadata": {},
   "outputs": [],
   "source": [
    "new_times = []\n",
    "for i in range(len(cgm_data)):\n",
    "    h_int, m_int, s_int = cgm_data['Time'][i].split(':')\n",
    "    new_times.append(h_int+m_int+s_int)"
   ]
  },
  {
   "cell_type": "code",
   "execution_count": 10,
   "metadata": {},
   "outputs": [],
   "source": [
    "final_times = []\n",
    "for i in range(len(new_times)):\n",
    "    final_times.append(int(new_times[i]))"
   ]
  },
  {
   "cell_type": "code",
   "execution_count": 11,
   "metadata": {},
   "outputs": [],
   "source": [
    "time_sec = int(time_sec)"
   ]
  },
  {
   "cell_type": "code",
   "execution_count": 12,
   "metadata": {},
   "outputs": [],
   "source": [
    "#final_time = min(final_times, key = lambda x: abs(x - time_sec))"
   ]
  },
  {
   "cell_type": "code",
   "execution_count": 13,
   "metadata": {},
   "outputs": [],
   "source": [
    "select_times = []\n",
    "for i in range(len(cgm_data)):\n",
    "    if((cgm_data.loc[i,'Date']) == final_date and (final_times[i] > time_sec)):\n",
    "        select_times.append((cgm_data.loc[i,'Time']))"
   ]
  },
  {
   "cell_type": "code",
   "execution_count": 14,
   "metadata": {},
   "outputs": [],
   "source": [
    "new_select_times = []\n",
    "for i in range(len(select_times)):\n",
    "    h_int, m_int, s_int = select_times[i].split(':')\n",
    "    new_select_times.append(int(h_int+m_int+s_int))"
   ]
  },
  {
   "cell_type": "code",
   "execution_count": 15,
   "metadata": {},
   "outputs": [],
   "source": [
    "final_time = min(new_select_times, key = lambda x: abs(x - time_sec))"
   ]
  },
  {
   "cell_type": "markdown",
   "metadata": {},
   "source": [
    "# segmentation"
   ]
  },
  {
   "cell_type": "code",
   "execution_count": 16,
   "metadata": {},
   "outputs": [],
   "source": [
    "total_days = len(cgm_data.groupby([cgm_data['Date']]).mean())"
   ]
  },
  {
   "cell_type": "code",
   "execution_count": 17,
   "metadata": {
    "scrolled": true
   },
   "outputs": [],
   "source": [
    "j = 0\n",
    "day = [[]]*total_days\n",
    "one_day = []\n",
    "while(j < len(cgm_data)):\n",
    "    base_date = cgm_data['Date'][j]\n",
    "    one_day = []\n",
    "    while(j < len(cgm_data) and cgm_data['Date'][j] == base_date):\n",
    "        one_day.append([cgm_data['Index'][j], cgm_data['Date'][j], cgm_data['Time'][j], cgm_data['Sensor Glucose (mg/dL)'][j]])\n",
    "        j += 1\n",
    "    day.append(one_day)"
   ]
  },
  {
   "cell_type": "code",
   "execution_count": 18,
   "metadata": {},
   "outputs": [],
   "source": [
    "final_days = [[]]\n",
    "for i in range(len(day)):\n",
    "    if(len(day[i]) != 0):\n",
    "        final_days.append(day[i])\n",
    "final_days.remove(final_days[0])\n",
    "        "
   ]
  },
  {
   "cell_type": "code",
   "execution_count": 19,
   "metadata": {},
   "outputs": [],
   "source": [
    "full_days = []\n",
    "for i in range(len(final_days)):\n",
    "    for j in range(len(final_days[i])):\n",
    "        if(not(np.isnan(final_days[i][j][3]))):\n",
    "            full_days.append(final_days[i][j])"
   ]
  },
  {
   "cell_type": "code",
   "execution_count": 20,
   "metadata": {},
   "outputs": [],
   "source": [
    "df = pd.DataFrame(full_days, columns = ['Index', 'Date', 'Time', 'Sensor Glucose (mg/dL)'])"
   ]
  },
  {
   "cell_type": "code",
   "execution_count": 21,
   "metadata": {},
   "outputs": [],
   "source": [
    "j = 0\n",
    "full_final_days = [[]]*total_days\n",
    "one_day = []\n",
    "while(j < len(df)):\n",
    "    base_date = df['Date'][j]\n",
    "    one_day = []\n",
    "    while(j < len(df) and df['Date'][j] == base_date):\n",
    "        one_day.append([df['Index'][j], df['Date'][j], df['Time'][j], df['Sensor Glucose (mg/dL)'][j]])\n",
    "        j += 1\n",
    "    full_final_days.append(one_day)"
   ]
  },
  {
   "cell_type": "code",
   "execution_count": 22,
   "metadata": {},
   "outputs": [],
   "source": [
    "complete_final_days = []\n",
    "for i in range(len(full_final_days)):\n",
    "    if(len(full_final_days[i]) != 0):\n",
    "        complete_final_days.append(full_final_days[i])\n",
    "complete_final_days.remove(complete_final_days[0])\n",
    "        "
   ]
  },
  {
   "cell_type": "code",
   "execution_count": 23,
   "metadata": {},
   "outputs": [],
   "source": [
    "try:\n",
    "    for i in range(len(complete_final_days)):\n",
    "        if(len(complete_final_days[i]) < 230 or len(final_days[i]) > 288):\n",
    "            complete_final_days.remove(complete_final_days[i])\n",
    "except IndexError:\n",
    "    pass\n",
    "        "
   ]
  },
  {
   "cell_type": "code",
   "execution_count": 24,
   "metadata": {},
   "outputs": [],
   "source": [
    "complete_days = len(complete_final_days)"
   ]
  },
  {
   "cell_type": "code",
   "execution_count": 25,
   "metadata": {},
   "outputs": [],
   "source": [
    "i = 0\n",
    "j = 0\n",
    "auto_mode_data = [[]] * len(complete_final_days)\n",
    "while(j < len(complete_final_days) and (complete_final_days[i][j][1] != final_date) and (complete_final_days[i][j][2] != final_time)):\n",
    "    one_day = []\n",
    "    base_date = complete_final_days[i][j][1]\n",
    "    while(j < len(complete_final_days[i]) and (complete_final_days[i][j][1] == base_date) and (complete_final_days[i][j][1] != final_date) and (complete_final_days[i][j][2] != final_time)):\n",
    "        one_day = [complete_final_days[i][j][0], complete_final_days[i][j][1], complete_final_days[i][j][2], complete_final_days[i][j][3]]\n",
    "        auto_mode_data.append(one_day)\n",
    "        j += 1\n",
    "    i += 1"
   ]
  },
  {
   "cell_type": "code",
   "execution_count": 26,
   "metadata": {},
   "outputs": [],
   "source": [
    "for i in range(len(complete_final_days)):\n",
    "    for j in range(len(complete_final_days[i])):\n",
    "        h, m, s = complete_final_days[i][j][2].split(':')\n",
    "        complete_final_days[i][j][2] = h+m+s\n",
    "        "
   ]
  },
  {
   "cell_type": "code",
   "execution_count": 27,
   "metadata": {},
   "outputs": [],
   "source": [
    "for i in range(len(complete_final_days)):\n",
    "    for j in range(len(complete_final_days[i])):\n",
    "        complete_final_days[i][j][2] = int(complete_final_days[i][j][2])"
   ]
  },
  {
   "cell_type": "code",
   "execution_count": 28,
   "metadata": {},
   "outputs": [],
   "source": [
    "for i in range(len(complete_final_days)):\n",
    "    for j in range(len(complete_final_days[i])):\n",
    "        if(complete_final_days[i][j][1] == final_date and complete_final_days[i][j][2] == final_time):\n",
    "            sep_index = complete_final_days[i][j][0]"
   ]
  },
  {
   "cell_type": "code",
   "execution_count": 29,
   "metadata": {},
   "outputs": [],
   "source": [
    "auto_mode_data = []\n",
    "manual_mode_data = []\n",
    "for i in range(len(complete_final_days)):\n",
    "    for j in range(len(complete_final_days[i])):\n",
    "        if(complete_final_days[i][j][0] <= sep_index):\n",
    "            auto_mode_data.append(complete_final_days[i][j])\n",
    "        else:\n",
    "            manual_mode_data.append(complete_final_days[i][j])"
   ]
  },
  {
   "cell_type": "code",
   "execution_count": 30,
   "metadata": {},
   "outputs": [],
   "source": [
    "j = 0\n",
    "auto_complete = [[]]*len(auto_mode_data)\n",
    "one_day = []\n",
    "while(j < len(auto_mode_data)):\n",
    "    base_date = auto_mode_data[j][1]\n",
    "    one_day = []\n",
    "    while(j < len(auto_mode_data) and auto_mode_data[j][1] == base_date):\n",
    "        one_day.append([auto_mode_data[j][0], auto_mode_data[j][1], auto_mode_data[j][2], auto_mode_data[j][3]])\n",
    "        j += 1\n",
    "    auto_complete.append(one_day)\n",
    "    i += 1"
   ]
  },
  {
   "cell_type": "code",
   "execution_count": 31,
   "metadata": {},
   "outputs": [],
   "source": [
    "final_auto_complete = [[]]\n",
    "for i in range(len(auto_complete)):\n",
    "    if(len(auto_complete[i]) != 0):\n",
    "        final_auto_complete.append(auto_complete[i])\n",
    "final_auto_complete.remove(auto_complete[0])"
   ]
  },
  {
   "cell_type": "code",
   "execution_count": 32,
   "metadata": {},
   "outputs": [],
   "source": [
    "j = 0\n",
    "manual_complete = [[]]*len(manual_mode_data)\n",
    "one_day = []\n",
    "while(j < len(manual_mode_data)):\n",
    "    base_date = manual_mode_data[j][1]\n",
    "    one_day = []\n",
    "    while(j < len(manual_mode_data) and manual_mode_data[j][1] == base_date):\n",
    "        one_day.append([manual_mode_data[j][0], manual_mode_data[j][1], manual_mode_data[j][2], manual_mode_data[j][3]])\n",
    "        j += 1\n",
    "    manual_complete.append(one_day)\n",
    "    i += 1"
   ]
  },
  {
   "cell_type": "code",
   "execution_count": 33,
   "metadata": {},
   "outputs": [],
   "source": [
    "final_manual_complete = [[]]\n",
    "for i in range(len(manual_complete)):\n",
    "    if(len(manual_complete[i]) != 0):\n",
    "        final_manual_complete.append(manual_complete[i])\n",
    "final_manual_complete.remove(manual_complete[0])"
   ]
  },
  {
   "cell_type": "code",
   "execution_count": 34,
   "metadata": {},
   "outputs": [],
   "source": [
    "auto_list = []\n",
    "manual_list = []"
   ]
  },
  {
   "cell_type": "markdown",
   "metadata": {},
   "source": [
    "a) Percentage time in hyperglycemia (CGM > 180 mg/dL), b) percentage of time in hyperglycemia critical (CGM > 250 mg/dL), c) percentage time in range (CGM >= 70 mg/dL and CGM <= 180 mg/dL), d) percentage time in range secondary (CGM >= 70 mg/dL and CGM <= 150 mg/dL), e) percentage time in hypoglycemia level 1 (CGM < 70 mg/dL), and f) percentage time in hypoglycemia level 2 (CGM < 54 mg/dL)."
   ]
  },
  {
   "cell_type": "markdown",
   "metadata": {},
   "source": [
    "# Percentage time in hyperglycemia (CGM > 180 mg/dL) wday_auto"
   ]
  },
  {
   "cell_type": "code",
   "execution_count": 35,
   "metadata": {},
   "outputs": [],
   "source": [
    "ind_mean = 0\n",
    "for i in range(len(final_auto_complete)):\n",
    "    for j in range(len(final_auto_complete[i])):\n",
    "        if(final_auto_complete[i][j][3] > 180):\n",
    "            ind_mean += final_auto_complete[i][j][3]/288\n",
    "count_wday_sum_auto_180 = ind_mean/len(complete_final_days)\n",
    "auto_list.append(count_wday_sum_auto_180)"
   ]
  },
  {
   "cell_type": "markdown",
   "metadata": {},
   "source": [
    "# percentage of time in hyperglycemia (CGM > 180 mg/dL) wday_manual"
   ]
  },
  {
   "cell_type": "code",
   "execution_count": 36,
   "metadata": {},
   "outputs": [],
   "source": [
    "ind_mean = 0\n",
    "for i in range(len(final_manual_complete)):\n",
    "    for j in range(len(final_manual_complete[i])):\n",
    "        if(final_manual_complete[i][j][3] > 180):\n",
    "            ind_mean += final_manual_complete[i][j][3]/288\n",
    "count_wday_sum_manual_180 = ind_mean/len(complete_final_days)\n",
    "manual_list.append(count_wday_sum_manual_180)"
   ]
  },
  {
   "cell_type": "markdown",
   "metadata": {},
   "source": [
    "# Percentage time in hyperglycemia (CGM > 180 mg/dL) dt_auto"
   ]
  },
  {
   "cell_type": "code",
   "execution_count": 37,
   "metadata": {},
   "outputs": [],
   "source": [
    "ind_mean = 0\n",
    "for i in range(len(final_auto_complete)):\n",
    "    for j in range(len(final_auto_complete[i])):\n",
    "        if(final_auto_complete[i][j][3] > 180 and final_auto_complete[i][j][2] <= 240000 and final_auto_complete[i][j][2] >= 60000):\n",
    "            ind_mean += final_auto_complete[i][j][3]/288\n",
    "count_dt_sum_auto_180 = ind_mean/len(complete_final_days)\n",
    "auto_list.append(count_dt_sum_auto_180)"
   ]
  },
  {
   "cell_type": "markdown",
   "metadata": {},
   "source": [
    "# Percentage time in hyperglycemia (CGM > 180 mg/dL) dt_manual"
   ]
  },
  {
   "cell_type": "code",
   "execution_count": 38,
   "metadata": {},
   "outputs": [],
   "source": [
    "ind_mean = 0\n",
    "for i in range(len(final_manual_complete)):\n",
    "    for j in range(len(final_manual_complete[i])):\n",
    "        if(final_manual_complete[i][j][3] > 180 and final_manual_complete[i][j][2] <= 240000 and final_manual_complete[i][j][2] >= 60000):\n",
    "            ind_mean += final_manual_complete[i][j][3]/288\n",
    "count_dt_sum_manual_180 = ind_mean/len(complete_final_days)\n",
    "manual_list.append(count_dt_sum_manual_180)"
   ]
  },
  {
   "cell_type": "markdown",
   "metadata": {},
   "source": [
    "# Percentage time in hyperglycemia (CGM > 180 mg/dL) on_auto"
   ]
  },
  {
   "cell_type": "code",
   "execution_count": 39,
   "metadata": {},
   "outputs": [],
   "source": [
    "ind_mean = 0\n",
    "for i in range(len(final_auto_complete)):\n",
    "    for j in range(len(final_auto_complete[i])):\n",
    "        if(final_auto_complete[i][j][3] > 180 and final_auto_complete[i][j][2] <= 60000 and final_auto_complete[i][j][2] >= 0):\n",
    "            ind_mean += final_auto_complete[i][j][3]/288\n",
    "count_on_sum_auto_180 = ind_mean/len(complete_final_days)\n",
    "auto_list.append(count_on_sum_auto_180)"
   ]
  },
  {
   "cell_type": "markdown",
   "metadata": {},
   "source": [
    "# Percentage time in hyperglycemia (CGM > 180 mg/dL) on_manual"
   ]
  },
  {
   "cell_type": "code",
   "execution_count": 40,
   "metadata": {},
   "outputs": [],
   "source": [
    "ind_mean = 0\n",
    "for i in range(len(final_manual_complete)):\n",
    "    for j in range(len(final_manual_complete[i])):\n",
    "        if(final_manual_complete[i][j][3] > 180 and final_manual_complete[i][j][2] <= 60000 and final_manual_complete[i][j][2] >= 0):\n",
    "            ind_mean += final_manual_complete[i][j][3]/288\n",
    "count_on_sum_manual_180 = ind_mean/len(complete_final_days)\n",
    "manual_list.append(count_on_sum_manual_180)"
   ]
  },
  {
   "cell_type": "markdown",
   "metadata": {},
   "source": [
    "# percentage of time in hyperglycemia critical (CGM > 250 mg/dL) wday_auto"
   ]
  },
  {
   "cell_type": "code",
   "execution_count": 41,
   "metadata": {},
   "outputs": [],
   "source": [
    "ind_mean = 0\n",
    "for i in range(len(final_auto_complete)):\n",
    "    for j in range(len(final_auto_complete[i])):\n",
    "        if(final_auto_complete[i][j][3] > 250):\n",
    "            ind_mean += final_auto_complete[i][j][3]/288\n",
    "count_wday_sum_auto_250 = ind_mean/len(complete_final_days)\n",
    "auto_list.append(count_wday_sum_auto_250)"
   ]
  },
  {
   "cell_type": "markdown",
   "metadata": {},
   "source": [
    "# percentage of time in hyperglycemia critical (CGM > 250 mg/dL) wday_manual"
   ]
  },
  {
   "cell_type": "code",
   "execution_count": 42,
   "metadata": {},
   "outputs": [],
   "source": [
    "ind_mean = 0\n",
    "for i in range(len(final_manual_complete)):\n",
    "    for j in range(len(final_manual_complete[i])):\n",
    "        if(final_manual_complete[i][j][3] > 250):\n",
    "            ind_mean += final_manual_complete[i][j][3]/288\n",
    "count_wday_sum_manual_250 = ind_mean/len(complete_final_days)\n",
    "manual_list.append(count_wday_sum_manual_250)"
   ]
  },
  {
   "cell_type": "markdown",
   "metadata": {},
   "source": [
    "# Percentage time in hyperglycemia critical(CGM > 250 mg/dL) dt_auto"
   ]
  },
  {
   "cell_type": "code",
   "execution_count": 43,
   "metadata": {},
   "outputs": [],
   "source": [
    "ind_mean = 0\n",
    "for i in range(len(final_auto_complete)):\n",
    "    for j in range(len(final_auto_complete[i])):\n",
    "        if(final_auto_complete[i][j][3] > 250 and final_auto_complete[i][j][2] <= 240000 and final_auto_complete[i][j][2] >= 60000):\n",
    "            ind_mean += final_auto_complete[i][j][3]/288\n",
    "count_dt_sum_auto_250 = ind_mean/len(complete_final_days)\n",
    "auto_list.append(count_dt_sum_auto_250)"
   ]
  },
  {
   "cell_type": "markdown",
   "metadata": {},
   "source": [
    "# Percentage time in hyperglycemia critical(CGM > 250 mg/dL) dt_manual"
   ]
  },
  {
   "cell_type": "code",
   "execution_count": 44,
   "metadata": {},
   "outputs": [],
   "source": [
    "ind_mean = 0\n",
    "for i in range(len(final_manual_complete)):\n",
    "    for j in range(len(final_manual_complete[i])):\n",
    "        if(final_manual_complete[i][j][3] > 250 and final_manual_complete[i][j][2] <= 240000 and final_manual_complete[i][j][2] >= 60000):\n",
    "            ind_mean += final_manual_complete[i][j][3]/288\n",
    "count_dt_sum_manual_250 = ind_mean/len(complete_final_days)\n",
    "manual_list.append(count_dt_sum_manual_250)"
   ]
  },
  {
   "cell_type": "markdown",
   "metadata": {},
   "source": [
    "# Percentage time in hyperglycemia critical (CGM > 250 mg/dL) on_auto"
   ]
  },
  {
   "cell_type": "code",
   "execution_count": 45,
   "metadata": {},
   "outputs": [],
   "source": [
    "ind_mean = 0\n",
    "for i in range(len(final_auto_complete)):\n",
    "    for j in range(len(final_auto_complete[i])):\n",
    "        if(final_auto_complete[i][j][3] > 250 and final_auto_complete[i][j][2] <= 60000 and final_auto_complete[i][j][2] >= 0):\n",
    "            ind_mean += final_auto_complete[i][j][3]/288\n",
    "count_on_sum_auto_250 = ind_mean/len(complete_final_days)\n",
    "auto_list.append(count_on_sum_auto_250)"
   ]
  },
  {
   "cell_type": "markdown",
   "metadata": {},
   "source": [
    "# Percentage time in hyperglycemia critical (CGM > 250 mg/dL) on_manual"
   ]
  },
  {
   "cell_type": "code",
   "execution_count": 46,
   "metadata": {},
   "outputs": [],
   "source": [
    "ind_mean = 0\n",
    "for i in range(len(final_manual_complete)):\n",
    "    for j in range(len(final_manual_complete[i])):\n",
    "        if(final_manual_complete[i][j][3] > 250 and final_manual_complete[i][j][2] <= 60000 and final_manual_complete[i][j][2] >= 0):\n",
    "            ind_mean += final_manual_complete[i][j][3]/288\n",
    "count_on_sum_manual_250 = ind_mean/len(complete_final_days)\n",
    "manual_list.append(count_on_sum_manual_250)"
   ]
  },
  {
   "cell_type": "markdown",
   "metadata": {},
   "source": [
    "# percentage time in range (CGM >= 70 mg/dL and CGM <= 180 mg/dL) wday_auto"
   ]
  },
  {
   "cell_type": "code",
   "execution_count": 47,
   "metadata": {},
   "outputs": [],
   "source": [
    "ind_mean = 0\n",
    "for i in range(len(final_auto_complete)):\n",
    "    for j in range(len(final_auto_complete[i])):\n",
    "        if(final_auto_complete[i][j][3] >= 70 and final_auto_complete[i][j][3] <= 180):\n",
    "            ind_mean += final_auto_complete[i][j][3]/288\n",
    "count_wday_sum_auto_70180 = ind_mean/len(complete_final_days)\n",
    "auto_list.append(count_wday_sum_auto_70180)"
   ]
  },
  {
   "cell_type": "markdown",
   "metadata": {},
   "source": [
    "# percentage time in range (CGM >= 70 mg/dL and CGM <= 180 mg/dL) wday_manual"
   ]
  },
  {
   "cell_type": "code",
   "execution_count": 48,
   "metadata": {},
   "outputs": [],
   "source": [
    "ind_mean = 0\n",
    "for i in range(len(final_manual_complete)):\n",
    "    for j in range(len(final_manual_complete[i])):\n",
    "        if(final_manual_complete[i][j][3] >= 70 and final_manual_complete[i][j][3] <= 180):\n",
    "            ind_mean += final_manual_complete[i][j][3]/288\n",
    "count_wday_sum_manual_70180 = ind_mean/len(complete_final_days)\n",
    "manual_list.append(count_wday_sum_manual_70180)"
   ]
  },
  {
   "cell_type": "markdown",
   "metadata": {},
   "source": [
    "# percentage time in range (CGM >= 70 mg/dL and CGM <= 180 mg/dL) dt_auto"
   ]
  },
  {
   "cell_type": "code",
   "execution_count": 49,
   "metadata": {},
   "outputs": [],
   "source": [
    "ind_mean = 0\n",
    "for i in range(len(final_auto_complete)):\n",
    "    for j in range(len(final_auto_complete[i])):\n",
    "        if(final_auto_complete[i][j][3] >= 70 and final_auto_complete[i][j][3] <= 180 and final_auto_complete[i][j][2] <= 240000 and final_auto_complete[i][j][2] >= 60000):\n",
    "            ind_mean += final_auto_complete[i][j][3]/288\n",
    "count_dt_sum_auto_70180 = ind_mean/len(complete_final_days)\n",
    "auto_list.append(count_dt_sum_auto_70180)"
   ]
  },
  {
   "cell_type": "markdown",
   "metadata": {},
   "source": [
    "# percentage time in range (CGM >= 70 mg/dL and CGM <= 180 mg/dL) dt_manual"
   ]
  },
  {
   "cell_type": "code",
   "execution_count": 50,
   "metadata": {},
   "outputs": [],
   "source": [
    "ind_mean = 0\n",
    "for i in range(len(final_manual_complete)):\n",
    "    for j in range(len(final_manual_complete[i])):\n",
    "        if(final_manual_complete[i][j][3] >= 70 and final_manual_complete[i][j][3] <= 180 and final_manual_complete[i][j][2] <= 240000 and final_manual_complete[i][j][2] >= 60000):\n",
    "            ind_mean += final_manual_complete[i][j][3]/288\n",
    "count_dt_sum_manual_70180 = ind_mean/len(complete_final_days)\n",
    "manual_list.append(count_dt_sum_manual_70180)"
   ]
  },
  {
   "cell_type": "markdown",
   "metadata": {},
   "source": [
    "# percentage time in range (CGM >= 70 mg/dL and CGM <= 180 mg/dL) on_auto"
   ]
  },
  {
   "cell_type": "code",
   "execution_count": 51,
   "metadata": {},
   "outputs": [],
   "source": [
    "ind_mean = 0\n",
    "for i in range(len(final_auto_complete)):\n",
    "    for j in range(len(final_auto_complete[i])):\n",
    "        if(final_auto_complete[i][j][3] >= 70 and final_auto_complete[i][j][3] <= 180 and final_auto_complete[i][j][2] <= 60000 and final_auto_complete[i][j][2] >= 0):\n",
    "            ind_mean += final_auto_complete[i][j][3]/288\n",
    "count_on_sum_auto_70180 = ind_mean/len(complete_final_days)\n",
    "auto_list.append(count_on_sum_auto_70180)"
   ]
  },
  {
   "cell_type": "markdown",
   "metadata": {},
   "source": [
    "# percentage time in range (CGM >= 70 mg/dL and CGM <= 180 mg/dL) on_manual"
   ]
  },
  {
   "cell_type": "code",
   "execution_count": 52,
   "metadata": {},
   "outputs": [],
   "source": [
    "ind_mean = 0\n",
    "for i in range(len(final_manual_complete)):\n",
    "    for j in range(len(final_manual_complete[i])):\n",
    "        if(final_manual_complete[i][j][3] >= 70 and final_manual_complete[i][j][3] <= 180 and final_manual_complete[i][j][2] <= 60000 and final_manual_complete[i][j][2] >= 0):\n",
    "            ind_mean += final_manual_complete[i][j][3]/288\n",
    "count_on_sum_manual_70180 = ind_mean/len(complete_final_days)\n",
    "manual_list.append(count_on_sum_manual_70180)"
   ]
  },
  {
   "cell_type": "markdown",
   "metadata": {},
   "source": [
    "# percentage time in range secondary (CGM >= 70 mg/dL and CGM <= 150 mg/dL) wday_auto"
   ]
  },
  {
   "cell_type": "code",
   "execution_count": 53,
   "metadata": {},
   "outputs": [],
   "source": [
    "ind_mean = 0\n",
    "for i in range(len(final_auto_complete)):\n",
    "    for j in range(len(final_auto_complete[i])):\n",
    "        if(final_auto_complete[i][j][3] >= 70 and final_auto_complete[i][j][3] <= 150):\n",
    "            ind_mean += final_auto_complete[i][j][3]/288\n",
    "count_wday_sum_auto_70150 = ind_mean/len(complete_final_days)\n",
    "auto_list.append(count_wday_sum_auto_70150)"
   ]
  },
  {
   "cell_type": "markdown",
   "metadata": {},
   "source": [
    "# percentage time in range secondary (CGM >= 70 mg/dL and CGM <= 150 mg/dL) wday_manual"
   ]
  },
  {
   "cell_type": "code",
   "execution_count": 54,
   "metadata": {},
   "outputs": [],
   "source": [
    "ind_mean = 0\n",
    "for i in range(len(final_manual_complete)):\n",
    "    for j in range(len(final_manual_complete[i])):\n",
    "        if(final_manual_complete[i][j][3] >= 70 and final_manual_complete[i][j][3] <= 150):\n",
    "            ind_mean += final_manual_complete[i][j][3]/288\n",
    "count_wday_sum_manual_70150 = ind_mean/len(complete_final_days)\n",
    "manual_list.append(count_wday_sum_manual_70150)"
   ]
  },
  {
   "cell_type": "markdown",
   "metadata": {},
   "source": [
    "# percentage time in range secondary (CGM >= 70 mg/dL and CGM <= 150 mg/dL) dt_auto"
   ]
  },
  {
   "cell_type": "code",
   "execution_count": 55,
   "metadata": {},
   "outputs": [],
   "source": [
    "ind_mean = 0\n",
    "for i in range(len(final_auto_complete)):\n",
    "    for j in range(len(final_auto_complete[i])):\n",
    "        if(final_auto_complete[i][j][3] >= 70 and final_auto_complete[i][j][3] <= 150 and final_auto_complete[i][j][2] <= 240000 and final_auto_complete[i][j][2] >= 60000):\n",
    "            ind_mean += final_auto_complete[i][j][3]/288\n",
    "count_dt_sum_auto_70150 = ind_mean/len(complete_final_days)\n",
    "auto_list.append(count_dt_sum_auto_70150)"
   ]
  },
  {
   "cell_type": "markdown",
   "metadata": {},
   "source": [
    "# percentage time in range secondary (CGM >= 70 mg/dL and CGM <= 150 mg/dL) dt_manual"
   ]
  },
  {
   "cell_type": "code",
   "execution_count": 56,
   "metadata": {},
   "outputs": [],
   "source": [
    "ind_mean = 0\n",
    "for i in range(len(final_manual_complete)):\n",
    "    for j in range(len(final_manual_complete[i])):\n",
    "        if(final_manual_complete[i][j][3] >= 70 and final_manual_complete[i][j][3] <= 150 and final_manual_complete[i][j][2] <= 240000 and final_manual_complete[i][j][2] >= 60000):\n",
    "            ind_mean += final_manual_complete[i][j][3]/288\n",
    "count_dt_sum_manual_70150 = ind_mean/len(complete_final_days)\n",
    "manual_list.append(count_dt_sum_manual_70150)"
   ]
  },
  {
   "cell_type": "markdown",
   "metadata": {},
   "source": [
    "# percentage time in range secondary (CGM >= 70 mg/dL and CGM <= 150 mg/dL) on_auto"
   ]
  },
  {
   "cell_type": "code",
   "execution_count": 57,
   "metadata": {},
   "outputs": [],
   "source": [
    "ind_mean = 0\n",
    "for i in range(len(final_auto_complete)):\n",
    "    for j in range(len(final_auto_complete[i])):\n",
    "        if(final_auto_complete[i][j][3] >= 70 and final_auto_complete[i][j][3] <= 150 and final_auto_complete[i][j][2] <= 60000 and final_auto_complete[i][j][2] >= 0):\n",
    "            ind_mean += final_auto_complete[i][j][3]/288\n",
    "count_on_sum_auto_70150 = ind_mean/len(complete_final_days)\n",
    "auto_list.append(count_on_sum_auto_70150)"
   ]
  },
  {
   "cell_type": "markdown",
   "metadata": {},
   "source": [
    "# percentage time in range secondary (CGM >= 70 mg/dL and CGM <= 150 mg/dL) on_manual"
   ]
  },
  {
   "cell_type": "code",
   "execution_count": 58,
   "metadata": {},
   "outputs": [],
   "source": [
    "ind_mean = 0\n",
    "for i in range(len(final_manual_complete)):\n",
    "    for j in range(len(final_manual_complete[i])):\n",
    "        if(final_manual_complete[i][j][3] >= 70 and final_manual_complete[i][j][3] <= 150 and final_manual_complete[i][j][2] <= 60000 and final_manual_complete[i][j][2] >= 0):\n",
    "            ind_mean += final_manual_complete[i][j][3]/288\n",
    "count_on_sum_manual_70150 = ind_mean/len(complete_final_days)\n",
    "manual_list.append(count_on_sum_manual_70150)"
   ]
  },
  {
   "cell_type": "markdown",
   "metadata": {},
   "source": [
    "# percentage time in hypoglycemia level 1 (CGM < 70 mg/dL) wday_auto"
   ]
  },
  {
   "cell_type": "code",
   "execution_count": 59,
   "metadata": {},
   "outputs": [],
   "source": [
    "ind_mean = 0\n",
    "for i in range(len(final_auto_complete)):\n",
    "    for j in range(len(final_auto_complete[i])):\n",
    "        if(final_auto_complete[i][j][3] < 70):\n",
    "            ind_mean += final_auto_complete[i][j][3]/288\n",
    "count_wday_sum_auto_70 = ind_mean/len(complete_final_days)\n",
    "auto_list.append(count_wday_sum_auto_70)"
   ]
  },
  {
   "cell_type": "markdown",
   "metadata": {},
   "source": [
    "# percentage time in hypoglycemia level 1 (CGM < 70 mg/dL) wday_manual"
   ]
  },
  {
   "cell_type": "code",
   "execution_count": 60,
   "metadata": {},
   "outputs": [],
   "source": [
    "ind_mean = 0\n",
    "for i in range(len(final_manual_complete)):\n",
    "    for j in range(len(final_manual_complete[i])):\n",
    "        if(final_manual_complete[i][j][3] < 70):\n",
    "            ind_mean += final_manual_complete[i][j][3]/288\n",
    "count_wday_sum_manual_70 = ind_mean/len(complete_final_days)\n",
    "manual_list.append(count_wday_sum_manual_70)"
   ]
  },
  {
   "cell_type": "markdown",
   "metadata": {},
   "source": [
    "# percentage time in hypoglycemia level 1 (CGM < 70 mg/dL) dt_auto"
   ]
  },
  {
   "cell_type": "code",
   "execution_count": 61,
   "metadata": {},
   "outputs": [],
   "source": [
    "ind_mean = 0\n",
    "for i in range(len(final_auto_complete)):\n",
    "    for j in range(len(final_auto_complete[i])):\n",
    "        if(final_auto_complete[i][j][3] < 70 and final_auto_complete[i][j][2] <= 240000 and final_auto_complete[i][j][2] >= 60000):\n",
    "            ind_mean += final_auto_complete[i][j][3]/288\n",
    "count_dt_sum_auto_70 = ind_mean/len(complete_final_days)\n",
    "auto_list.append(count_dt_sum_auto_70)"
   ]
  },
  {
   "cell_type": "markdown",
   "metadata": {},
   "source": [
    "# percentage time in hypoglycemia level 1 (CGM < 70 mg/dL) dt_manual"
   ]
  },
  {
   "cell_type": "code",
   "execution_count": 62,
   "metadata": {},
   "outputs": [],
   "source": [
    "ind_mean = 0\n",
    "for i in range(len(final_manual_complete)):\n",
    "    for j in range(len(final_manual_complete[i])):\n",
    "        if(final_manual_complete[i][j][3] < 70 and final_manual_complete[i][j][2] <= 240000 and final_manual_complete[i][j][2] >= 60000):\n",
    "            ind_mean += final_manual_complete[i][j][3]/288\n",
    "count_dt_sum_manual_70 = ind_mean/len(complete_final_days)\n",
    "manual_list.append(count_dt_sum_manual_70)"
   ]
  },
  {
   "cell_type": "markdown",
   "metadata": {},
   "source": [
    "# percentage time in hypoglycemia level 1 (CGM < 70 mg/dL) on_auto"
   ]
  },
  {
   "cell_type": "code",
   "execution_count": 63,
   "metadata": {},
   "outputs": [],
   "source": [
    "ind_mean = 0\n",
    "for i in range(len(final_auto_complete)):\n",
    "    for j in range(len(final_auto_complete[i])):\n",
    "        if(final_auto_complete[i][j][3] < 70 and final_auto_complete[i][j][2] <= 60000 and final_auto_complete[i][j][2] >= 0):\n",
    "            ind_mean += final_auto_complete[i][j][3]/288\n",
    "count_on_sum_auto_70 = ind_mean/len(complete_final_days)\n",
    "auto_list.append(count_on_sum_auto_70)"
   ]
  },
  {
   "cell_type": "markdown",
   "metadata": {},
   "source": [
    "# percentage time in hypoglycemia level 1 (CGM < 70 mg/dL) on_manual"
   ]
  },
  {
   "cell_type": "code",
   "execution_count": 64,
   "metadata": {},
   "outputs": [],
   "source": [
    "ind_mean = 0\n",
    "for i in range(len(final_manual_complete)):\n",
    "    for j in range(len(final_manual_complete[i])):\n",
    "        if(final_manual_complete[i][j][3] < 70 and final_manual_complete[i][j][2] <= 60000 and final_manual_complete[i][j][2] >= 0):\n",
    "            ind_mean += final_manual_complete[i][j][3]/288\n",
    "count_on_sum_manual_70 = ind_mean/len(complete_final_days)\n",
    "manual_list.append(count_on_sum_manual_70)"
   ]
  },
  {
   "cell_type": "markdown",
   "metadata": {},
   "source": [
    "# percentage time in hypoglycemia level 2 (CGM < 54 mg/dL) wday_auto"
   ]
  },
  {
   "cell_type": "code",
   "execution_count": 65,
   "metadata": {},
   "outputs": [],
   "source": [
    "ind_mean = 0\n",
    "for i in range(len(final_auto_complete)):\n",
    "    for j in range(len(final_auto_complete[i])):\n",
    "        if(final_auto_complete[i][j][3] < 54):\n",
    "            ind_mean += final_auto_complete[i][j][3]/288\n",
    "count_wday_sum_auto_54 = ind_mean/len(complete_final_days)\n",
    "auto_list.append(count_wday_sum_auto_54)"
   ]
  },
  {
   "cell_type": "markdown",
   "metadata": {},
   "source": [
    "# percentage time in hypoglycemia level 2 (CGM < 54 mg/dL) wday_manual"
   ]
  },
  {
   "cell_type": "code",
   "execution_count": 66,
   "metadata": {},
   "outputs": [],
   "source": [
    "ind_mean = 0\n",
    "for i in range(len(final_manual_complete)):\n",
    "    for j in range(len(final_manual_complete[i])):\n",
    "        if(final_manual_complete[i][j][3] < 54):\n",
    "            ind_mean += final_manual_complete[i][j][3]/288\n",
    "count_wday_sum_manual_54 = ind_mean/len(complete_final_days)\n",
    "manual_list.append(count_wday_sum_manual_54)"
   ]
  },
  {
   "cell_type": "markdown",
   "metadata": {},
   "source": [
    "# percentage time in hypoglycemia level 2 (CGM < 54 mg/dL) dt_auto"
   ]
  },
  {
   "cell_type": "code",
   "execution_count": 67,
   "metadata": {},
   "outputs": [],
   "source": [
    "ind_mean = 0\n",
    "for i in range(len(final_auto_complete)):\n",
    "    for j in range(len(final_auto_complete[i])):\n",
    "        if(final_auto_complete[i][j][3] < 54 and final_auto_complete[i][j][2] <= 240000 and final_auto_complete[i][j][2] >= 60000):\n",
    "            ind_mean += final_auto_complete[i][j][3]/288\n",
    "count_dt_sum_auto_54 = ind_mean/len(complete_final_days)\n",
    "auto_list.append(count_dt_sum_auto_54)"
   ]
  },
  {
   "cell_type": "markdown",
   "metadata": {},
   "source": [
    "# percentage time in hypoglycemia level 2 (CGM < 54 mg/dL) dt_manual"
   ]
  },
  {
   "cell_type": "code",
   "execution_count": 68,
   "metadata": {},
   "outputs": [],
   "source": [
    "ind_mean = 0\n",
    "for i in range(len(final_manual_complete)):\n",
    "    for j in range(len(final_manual_complete[i])):\n",
    "        if(final_manual_complete[i][j][3] < 54 and final_manual_complete[i][j][2] <= 240000 and final_manual_complete[i][j][2] >= 60000):\n",
    "            ind_mean += final_manual_complete[i][j][3]/288\n",
    "count_dt_sum_manual_54 = ind_mean/len(complete_final_days)\n",
    "manual_list.append(count_dt_sum_manual_54)"
   ]
  },
  {
   "cell_type": "markdown",
   "metadata": {},
   "source": [
    "# percentage time in hypoglycemia level 2 (CGM < 54 mg/dL) on_auto"
   ]
  },
  {
   "cell_type": "code",
   "execution_count": 69,
   "metadata": {},
   "outputs": [],
   "source": [
    "ind_mean = 0\n",
    "for i in range(len(final_auto_complete)):\n",
    "    for j in range(len(final_auto_complete[i])):\n",
    "        if(final_auto_complete[i][j][3] < 54 and final_auto_complete[i][j][2] <= 60000 and final_auto_complete[i][j][2] >= 0):\n",
    "            ind_mean += final_auto_complete[i][j][3]/288\n",
    "count_on_sum_auto_54 = ind_mean/len(complete_final_days)\n",
    "auto_list.append(count_on_sum_auto_54)"
   ]
  },
  {
   "cell_type": "markdown",
   "metadata": {},
   "source": [
    "# percentage time in hypoglycemia level 2 (CGM < 54 mg/dL) on_manual"
   ]
  },
  {
   "cell_type": "code",
   "execution_count": 70,
   "metadata": {},
   "outputs": [],
   "source": [
    "ind_mean = 0\n",
    "for i in range(len(final_manual_complete)):\n",
    "    for j in range(len(final_manual_complete[i])):\n",
    "        if(final_manual_complete[i][j][3] < 54 and final_manual_complete[i][j][2] <= 60000 and final_manual_complete[i][j][2] >= 0):\n",
    "            ind_mean += final_manual_complete[i][j][3]/288\n",
    "count_on_sum_manual_54 = ind_mean/len(complete_final_days)\n",
    "manual_list.append(count_on_sum_manual_54)"
   ]
  },
  {
   "cell_type": "code",
   "execution_count": 71,
   "metadata": {},
   "outputs": [
    {
     "ename": "NameError",
     "evalue": "name 'auto_li' is not defined",
     "output_type": "error",
     "traceback": [
      "\u001b[1;31m---------------------------------------------------------------------------\u001b[0m",
      "\u001b[1;31mNameError\u001b[0m                                 Traceback (most recent call last)",
      "\u001b[1;32m<ipython-input-71-7a0c34a92122>\u001b[0m in \u001b[0;36m<module>\u001b[1;34m()\u001b[0m\n\u001b[1;32m----> 1\u001b[1;33m \u001b[0mauto_li\u001b[0m\u001b[1;33m\u001b[0m\u001b[0m\n\u001b[0m",
      "\u001b[1;31mNameError\u001b[0m: name 'auto_li' is not defined"
     ]
    }
   ],
   "source": [
    "auto_li"
   ]
  },
  {
   "cell_type": "code",
   "execution_count": 72,
   "metadata": {},
   "outputs": [],
   "source": [
    "final_df = pd.DataFrame([auto_list, manual_list], index = ['auto_mode', 'manual_mode'], columns = ['whole_day_gt_180',\\\n",
    "                        'daytime_gt_180', 'overnight_gt_180', 'whole_day_gt_250', 'daytime_gt_250', 'overnight_gt_250',\\\n",
    "                        'whole_day_gte_70_lte_180', 'daytime_gte_70_lte_180', 'overnight_gte_70_lte_180',\\\n",
    "                        'whole_day_gte_70_lte_150', 'daytime_gte_70_lte_150', 'overnight_gte_70_lte_150',\\\n",
    "                        'whole_day_lt_70', 'daytime_lt_70', 'overnight_lt_70', 'whole_day_lt_54', 'daytime_lt_54',\\\n",
    "                                                                                                   'overnight_lt_54'])"
   ]
  },
  {
   "cell_type": "code",
   "execution_count": 73,
   "metadata": {},
   "outputs": [],
   "source": [
    "final_df.to_csv(r'.\\results.csv')"
   ]
  },
  {
   "cell_type": "code",
   "execution_count": null,
   "metadata": {},
   "outputs": [],
   "source": []
  }
 ],
 "metadata": {
  "kernelspec": {
   "display_name": "Python 3",
   "language": "python",
   "name": "python3"
  },
  "language_info": {
   "codemirror_mode": {
    "name": "ipython",
    "version": 3
   },
   "file_extension": ".py",
   "mimetype": "text/x-python",
   "name": "python",
   "nbconvert_exporter": "python",
   "pygments_lexer": "ipython3",
   "version": "3.6.5"
  }
 },
 "nbformat": 4,
 "nbformat_minor": 2
}
